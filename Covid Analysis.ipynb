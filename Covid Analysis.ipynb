{
 "cells": [
  {
   "cell_type": "code",
   "execution_count": 2,
   "id": "08b6f7f9",
   "metadata": {},
   "outputs": [],
   "source": [
    "import pandas as pd\n",
    "import matplotlib.pyplot as plt\n"
   ]
  },
  {
   "cell_type": "code",
   "execution_count": 7,
   "id": "08da45dc",
   "metadata": {},
   "outputs": [],
   "source": [
    "country_wise = pd.read_csv('Dataset/country_wise_latest.csv')\n",
    "covid_complete = pd.read_csv('Dataset/covid_19_clean_complete.csv')\n",
    "day_wise = pd.read_csv('Dataset/day_wise.csv')\n",
    "world_data = pd.read_csv('Dataset/worldometer_data.csv')\n",
    "full_grouped = pd.read_csv('Dataset/full_grouped.csv')\n"
   ]
  },
  {
   "cell_type": "code",
   "execution_count": 9,
   "id": "90f4ac99",
   "metadata": {},
   "outputs": [
    {
     "name": "stdout",
     "output_type": "stream",
     "text": [
      "<class 'pandas.core.frame.DataFrame'>\n",
      "RangeIndex: 187 entries, 0 to 186\n",
      "Data columns (total 15 columns):\n",
      " #   Column                  Non-Null Count  Dtype  \n",
      "---  ------                  --------------  -----  \n",
      " 0   Country/Region          187 non-null    object \n",
      " 1   Confirmed               187 non-null    int64  \n",
      " 2   Deaths                  187 non-null    int64  \n",
      " 3   Recovered               187 non-null    int64  \n",
      " 4   Active                  187 non-null    int64  \n",
      " 5   New cases               187 non-null    int64  \n",
      " 6   New deaths              187 non-null    int64  \n",
      " 7   New recovered           187 non-null    int64  \n",
      " 8   Deaths / 100 Cases      187 non-null    float64\n",
      " 9   Recovered / 100 Cases   187 non-null    float64\n",
      " 10  Deaths / 100 Recovered  187 non-null    float64\n",
      " 11  Confirmed last week     187 non-null    int64  \n",
      " 12  1 week change           187 non-null    int64  \n",
      " 13  1 week % increase       187 non-null    float64\n",
      " 14  WHO Region              187 non-null    object \n",
      "dtypes: float64(4), int64(9), object(2)\n",
      "memory usage: 22.0+ KB\n"
     ]
    }
   ],
   "source": [
    "country_wise.info()"
   ]
  },
  {
   "cell_type": "code",
   "execution_count": 10,
   "id": "e8b9cb45",
   "metadata": {},
   "outputs": [
    {
     "data": {
      "text/html": [
       "<div>\n",
       "<style scoped>\n",
       "    .dataframe tbody tr th:only-of-type {\n",
       "        vertical-align: middle;\n",
       "    }\n",
       "\n",
       "    .dataframe tbody tr th {\n",
       "        vertical-align: top;\n",
       "    }\n",
       "\n",
       "    .dataframe thead th {\n",
       "        text-align: right;\n",
       "    }\n",
       "</style>\n",
       "<table border=\"1\" class=\"dataframe\">\n",
       "  <thead>\n",
       "    <tr style=\"text-align: right;\">\n",
       "      <th></th>\n",
       "      <th>Confirmed</th>\n",
       "      <th>Deaths</th>\n",
       "      <th>Recovered</th>\n",
       "      <th>Active</th>\n",
       "      <th>New cases</th>\n",
       "      <th>New deaths</th>\n",
       "      <th>New recovered</th>\n",
       "      <th>Deaths / 100 Cases</th>\n",
       "      <th>Recovered / 100 Cases</th>\n",
       "      <th>Deaths / 100 Recovered</th>\n",
       "      <th>Confirmed last week</th>\n",
       "      <th>1 week change</th>\n",
       "      <th>1 week % increase</th>\n",
       "    </tr>\n",
       "  </thead>\n",
       "  <tbody>\n",
       "    <tr>\n",
       "      <th>count</th>\n",
       "      <td>1.870000e+02</td>\n",
       "      <td>187.000000</td>\n",
       "      <td>1.870000e+02</td>\n",
       "      <td>1.870000e+02</td>\n",
       "      <td>187.000000</td>\n",
       "      <td>187.000000</td>\n",
       "      <td>187.000000</td>\n",
       "      <td>187.000000</td>\n",
       "      <td>187.000000</td>\n",
       "      <td>187.00</td>\n",
       "      <td>1.870000e+02</td>\n",
       "      <td>187.000000</td>\n",
       "      <td>187.000000</td>\n",
       "    </tr>\n",
       "    <tr>\n",
       "      <th>mean</th>\n",
       "      <td>8.813094e+04</td>\n",
       "      <td>3497.518717</td>\n",
       "      <td>5.063148e+04</td>\n",
       "      <td>3.400194e+04</td>\n",
       "      <td>1222.957219</td>\n",
       "      <td>28.957219</td>\n",
       "      <td>933.812834</td>\n",
       "      <td>3.019519</td>\n",
       "      <td>64.820535</td>\n",
       "      <td>inf</td>\n",
       "      <td>7.868248e+04</td>\n",
       "      <td>9448.459893</td>\n",
       "      <td>13.606203</td>\n",
       "    </tr>\n",
       "    <tr>\n",
       "      <th>std</th>\n",
       "      <td>3.833187e+05</td>\n",
       "      <td>14100.002482</td>\n",
       "      <td>1.901882e+05</td>\n",
       "      <td>2.133262e+05</td>\n",
       "      <td>5710.374790</td>\n",
       "      <td>120.037173</td>\n",
       "      <td>4197.719635</td>\n",
       "      <td>3.454302</td>\n",
       "      <td>26.287694</td>\n",
       "      <td>NaN</td>\n",
       "      <td>3.382737e+05</td>\n",
       "      <td>47491.127684</td>\n",
       "      <td>24.509838</td>\n",
       "    </tr>\n",
       "    <tr>\n",
       "      <th>min</th>\n",
       "      <td>1.000000e+01</td>\n",
       "      <td>0.000000</td>\n",
       "      <td>0.000000e+00</td>\n",
       "      <td>0.000000e+00</td>\n",
       "      <td>0.000000</td>\n",
       "      <td>0.000000</td>\n",
       "      <td>0.000000</td>\n",
       "      <td>0.000000</td>\n",
       "      <td>0.000000</td>\n",
       "      <td>0.00</td>\n",
       "      <td>1.000000e+01</td>\n",
       "      <td>-47.000000</td>\n",
       "      <td>-3.840000</td>\n",
       "    </tr>\n",
       "    <tr>\n",
       "      <th>25%</th>\n",
       "      <td>1.114000e+03</td>\n",
       "      <td>18.500000</td>\n",
       "      <td>6.265000e+02</td>\n",
       "      <td>1.415000e+02</td>\n",
       "      <td>4.000000</td>\n",
       "      <td>0.000000</td>\n",
       "      <td>0.000000</td>\n",
       "      <td>0.945000</td>\n",
       "      <td>48.770000</td>\n",
       "      <td>1.45</td>\n",
       "      <td>1.051500e+03</td>\n",
       "      <td>49.000000</td>\n",
       "      <td>2.775000</td>\n",
       "    </tr>\n",
       "    <tr>\n",
       "      <th>50%</th>\n",
       "      <td>5.059000e+03</td>\n",
       "      <td>108.000000</td>\n",
       "      <td>2.815000e+03</td>\n",
       "      <td>1.600000e+03</td>\n",
       "      <td>49.000000</td>\n",
       "      <td>1.000000</td>\n",
       "      <td>22.000000</td>\n",
       "      <td>2.150000</td>\n",
       "      <td>71.320000</td>\n",
       "      <td>3.62</td>\n",
       "      <td>5.020000e+03</td>\n",
       "      <td>432.000000</td>\n",
       "      <td>6.890000</td>\n",
       "    </tr>\n",
       "    <tr>\n",
       "      <th>75%</th>\n",
       "      <td>4.046050e+04</td>\n",
       "      <td>734.000000</td>\n",
       "      <td>2.260600e+04</td>\n",
       "      <td>9.149000e+03</td>\n",
       "      <td>419.500000</td>\n",
       "      <td>6.000000</td>\n",
       "      <td>221.000000</td>\n",
       "      <td>3.875000</td>\n",
       "      <td>86.885000</td>\n",
       "      <td>6.44</td>\n",
       "      <td>3.708050e+04</td>\n",
       "      <td>3172.000000</td>\n",
       "      <td>16.855000</td>\n",
       "    </tr>\n",
       "    <tr>\n",
       "      <th>max</th>\n",
       "      <td>4.290259e+06</td>\n",
       "      <td>148011.000000</td>\n",
       "      <td>1.846641e+06</td>\n",
       "      <td>2.816444e+06</td>\n",
       "      <td>56336.000000</td>\n",
       "      <td>1076.000000</td>\n",
       "      <td>33728.000000</td>\n",
       "      <td>28.560000</td>\n",
       "      <td>100.000000</td>\n",
       "      <td>inf</td>\n",
       "      <td>3.834677e+06</td>\n",
       "      <td>455582.000000</td>\n",
       "      <td>226.320000</td>\n",
       "    </tr>\n",
       "  </tbody>\n",
       "</table>\n",
       "</div>"
      ],
      "text/plain": [
       "          Confirmed         Deaths     Recovered        Active     New cases  \\\n",
       "count  1.870000e+02     187.000000  1.870000e+02  1.870000e+02    187.000000   \n",
       "mean   8.813094e+04    3497.518717  5.063148e+04  3.400194e+04   1222.957219   \n",
       "std    3.833187e+05   14100.002482  1.901882e+05  2.133262e+05   5710.374790   \n",
       "min    1.000000e+01       0.000000  0.000000e+00  0.000000e+00      0.000000   \n",
       "25%    1.114000e+03      18.500000  6.265000e+02  1.415000e+02      4.000000   \n",
       "50%    5.059000e+03     108.000000  2.815000e+03  1.600000e+03     49.000000   \n",
       "75%    4.046050e+04     734.000000  2.260600e+04  9.149000e+03    419.500000   \n",
       "max    4.290259e+06  148011.000000  1.846641e+06  2.816444e+06  56336.000000   \n",
       "\n",
       "        New deaths  New recovered  Deaths / 100 Cases  Recovered / 100 Cases  \\\n",
       "count   187.000000     187.000000          187.000000             187.000000   \n",
       "mean     28.957219     933.812834            3.019519              64.820535   \n",
       "std     120.037173    4197.719635            3.454302              26.287694   \n",
       "min       0.000000       0.000000            0.000000               0.000000   \n",
       "25%       0.000000       0.000000            0.945000              48.770000   \n",
       "50%       1.000000      22.000000            2.150000              71.320000   \n",
       "75%       6.000000     221.000000            3.875000              86.885000   \n",
       "max    1076.000000   33728.000000           28.560000             100.000000   \n",
       "\n",
       "       Deaths / 100 Recovered  Confirmed last week  1 week change  \\\n",
       "count                  187.00         1.870000e+02     187.000000   \n",
       "mean                      inf         7.868248e+04    9448.459893   \n",
       "std                       NaN         3.382737e+05   47491.127684   \n",
       "min                      0.00         1.000000e+01     -47.000000   \n",
       "25%                      1.45         1.051500e+03      49.000000   \n",
       "50%                      3.62         5.020000e+03     432.000000   \n",
       "75%                      6.44         3.708050e+04    3172.000000   \n",
       "max                       inf         3.834677e+06  455582.000000   \n",
       "\n",
       "       1 week % increase  \n",
       "count         187.000000  \n",
       "mean           13.606203  \n",
       "std            24.509838  \n",
       "min            -3.840000  \n",
       "25%             2.775000  \n",
       "50%             6.890000  \n",
       "75%            16.855000  \n",
       "max           226.320000  "
      ]
     },
     "execution_count": 10,
     "metadata": {},
     "output_type": "execute_result"
    }
   ],
   "source": [
    "country_wise.describe()"
   ]
  },
  {
   "cell_type": "code",
   "execution_count": 47,
   "id": "1a24e304",
   "metadata": {},
   "outputs": [],
   "source": [
    "def remove_col(df, old, new):\n",
    "    df[new] = df[old]\n",
    "    df.drop(old, axis=1, inplace=True)\n",
    "    return df\n"
   ]
  },
  {
   "cell_type": "code",
   "execution_count": 48,
   "id": "3ed685df",
   "metadata": {},
   "outputs": [
    {
     "ename": "KeyError",
     "evalue": "'Deaths / 100 Cases'",
     "output_type": "error",
     "traceback": [
      "\u001b[1;31m---------------------------------------------------------------------------\u001b[0m",
      "\u001b[1;31mKeyError\u001b[0m                                  Traceback (most recent call last)",
      "\u001b[1;32mc:\\users\\codin\\appdata\\local\\programs\\python\\python39\\lib\\site-packages\\pandas\\core\\indexes\\base.py\u001b[0m in \u001b[0;36mget_loc\u001b[1;34m(self, key, method, tolerance)\u001b[0m\n\u001b[0;32m   3360\u001b[0m             \u001b[1;32mtry\u001b[0m\u001b[1;33m:\u001b[0m\u001b[1;33m\u001b[0m\u001b[1;33m\u001b[0m\u001b[0m\n\u001b[1;32m-> 3361\u001b[1;33m                 \u001b[1;32mreturn\u001b[0m \u001b[0mself\u001b[0m\u001b[1;33m.\u001b[0m\u001b[0m_engine\u001b[0m\u001b[1;33m.\u001b[0m\u001b[0mget_loc\u001b[0m\u001b[1;33m(\u001b[0m\u001b[0mcasted_key\u001b[0m\u001b[1;33m)\u001b[0m\u001b[1;33m\u001b[0m\u001b[1;33m\u001b[0m\u001b[0m\n\u001b[0m\u001b[0;32m   3362\u001b[0m             \u001b[1;32mexcept\u001b[0m \u001b[0mKeyError\u001b[0m \u001b[1;32mas\u001b[0m \u001b[0merr\u001b[0m\u001b[1;33m:\u001b[0m\u001b[1;33m\u001b[0m\u001b[1;33m\u001b[0m\u001b[0m\n",
      "\u001b[1;32mc:\\users\\codin\\appdata\\local\\programs\\python\\python39\\lib\\site-packages\\pandas\\_libs\\index.pyx\u001b[0m in \u001b[0;36mpandas._libs.index.IndexEngine.get_loc\u001b[1;34m()\u001b[0m\n",
      "\u001b[1;32mc:\\users\\codin\\appdata\\local\\programs\\python\\python39\\lib\\site-packages\\pandas\\_libs\\index.pyx\u001b[0m in \u001b[0;36mpandas._libs.index.IndexEngine.get_loc\u001b[1;34m()\u001b[0m\n",
      "\u001b[1;32mpandas\\_libs\\hashtable_class_helper.pxi\u001b[0m in \u001b[0;36mpandas._libs.hashtable.PyObjectHashTable.get_item\u001b[1;34m()\u001b[0m\n",
      "\u001b[1;32mpandas\\_libs\\hashtable_class_helper.pxi\u001b[0m in \u001b[0;36mpandas._libs.hashtable.PyObjectHashTable.get_item\u001b[1;34m()\u001b[0m\n",
      "\u001b[1;31mKeyError\u001b[0m: 'Deaths / 100 Cases'",
      "\nThe above exception was the direct cause of the following exception:\n",
      "\u001b[1;31mKeyError\u001b[0m                                  Traceback (most recent call last)",
      "\u001b[1;32m~\\AppData\\Local\\Temp/ipykernel_17384/3133328664.py\u001b[0m in \u001b[0;36m<module>\u001b[1;34m\u001b[0m\n\u001b[0;32m      2\u001b[0m \u001b[0mremove_col\u001b[0m\u001b[1;33m(\u001b[0m\u001b[0mcountry_wise\u001b[0m\u001b[1;33m,\u001b[0m \u001b[1;34m'Recovered / 100 Cases'\u001b[0m\u001b[1;33m,\u001b[0m \u001b[1;34m'Recoveredp100'\u001b[0m\u001b[1;33m)\u001b[0m\u001b[1;33m\u001b[0m\u001b[1;33m\u001b[0m\u001b[0m\n\u001b[0;32m      3\u001b[0m \u001b[0mremove_col\u001b[0m\u001b[1;33m(\u001b[0m\u001b[0mcountry_wise\u001b[0m\u001b[1;33m,\u001b[0m \u001b[1;34m'Deaths / 100 Recovered'\u001b[0m\u001b[1;33m,\u001b[0m \u001b[1;34m'Deathsp100Recovered'\u001b[0m\u001b[1;33m)\u001b[0m\u001b[1;33m\u001b[0m\u001b[1;33m\u001b[0m\u001b[0m\n\u001b[1;32m----> 4\u001b[1;33m \u001b[0mremove_col\u001b[0m\u001b[1;33m(\u001b[0m\u001b[0mcountry_wise\u001b[0m\u001b[1;33m,\u001b[0m \u001b[1;34m'Deaths / 100 Cases'\u001b[0m\u001b[1;33m,\u001b[0m \u001b[1;34m'Deathsp10athsp100'\u001b[0m\u001b[1;33m)\u001b[0m\u001b[1;33m\u001b[0m\u001b[1;33m\u001b[0m\u001b[0m\n\u001b[0m",
      "\u001b[1;32m~\\AppData\\Local\\Temp/ipykernel_17384/4217669163.py\u001b[0m in \u001b[0;36mremove_col\u001b[1;34m(df, old, new)\u001b[0m\n\u001b[0;32m      1\u001b[0m \u001b[1;32mdef\u001b[0m \u001b[0mremove_col\u001b[0m\u001b[1;33m(\u001b[0m\u001b[0mdf\u001b[0m\u001b[1;33m,\u001b[0m \u001b[0mold\u001b[0m\u001b[1;33m,\u001b[0m \u001b[0mnew\u001b[0m\u001b[1;33m)\u001b[0m\u001b[1;33m:\u001b[0m\u001b[1;33m\u001b[0m\u001b[1;33m\u001b[0m\u001b[0m\n\u001b[1;32m----> 2\u001b[1;33m     \u001b[0mdf\u001b[0m\u001b[1;33m[\u001b[0m\u001b[0mnew\u001b[0m\u001b[1;33m]\u001b[0m \u001b[1;33m=\u001b[0m \u001b[0mdf\u001b[0m\u001b[1;33m[\u001b[0m\u001b[0mold\u001b[0m\u001b[1;33m]\u001b[0m\u001b[1;33m\u001b[0m\u001b[1;33m\u001b[0m\u001b[0m\n\u001b[0m\u001b[0;32m      3\u001b[0m     \u001b[0mdf\u001b[0m\u001b[1;33m.\u001b[0m\u001b[0mdrop\u001b[0m\u001b[1;33m(\u001b[0m\u001b[0mold\u001b[0m\u001b[1;33m,\u001b[0m \u001b[0maxis\u001b[0m\u001b[1;33m=\u001b[0m\u001b[1;36m1\u001b[0m\u001b[1;33m,\u001b[0m \u001b[0minplace\u001b[0m\u001b[1;33m=\u001b[0m\u001b[1;32mTrue\u001b[0m\u001b[1;33m)\u001b[0m\u001b[1;33m\u001b[0m\u001b[1;33m\u001b[0m\u001b[0m\n\u001b[0;32m      4\u001b[0m     \u001b[1;32mreturn\u001b[0m \u001b[0mdf\u001b[0m\u001b[1;33m\u001b[0m\u001b[1;33m\u001b[0m\u001b[0m\n",
      "\u001b[1;32mc:\\users\\codin\\appdata\\local\\programs\\python\\python39\\lib\\site-packages\\pandas\\core\\frame.py\u001b[0m in \u001b[0;36m__getitem__\u001b[1;34m(self, key)\u001b[0m\n\u001b[0;32m   3453\u001b[0m             \u001b[1;32mif\u001b[0m \u001b[0mself\u001b[0m\u001b[1;33m.\u001b[0m\u001b[0mcolumns\u001b[0m\u001b[1;33m.\u001b[0m\u001b[0mnlevels\u001b[0m \u001b[1;33m>\u001b[0m \u001b[1;36m1\u001b[0m\u001b[1;33m:\u001b[0m\u001b[1;33m\u001b[0m\u001b[1;33m\u001b[0m\u001b[0m\n\u001b[0;32m   3454\u001b[0m                 \u001b[1;32mreturn\u001b[0m \u001b[0mself\u001b[0m\u001b[1;33m.\u001b[0m\u001b[0m_getitem_multilevel\u001b[0m\u001b[1;33m(\u001b[0m\u001b[0mkey\u001b[0m\u001b[1;33m)\u001b[0m\u001b[1;33m\u001b[0m\u001b[1;33m\u001b[0m\u001b[0m\n\u001b[1;32m-> 3455\u001b[1;33m             \u001b[0mindexer\u001b[0m \u001b[1;33m=\u001b[0m \u001b[0mself\u001b[0m\u001b[1;33m.\u001b[0m\u001b[0mcolumns\u001b[0m\u001b[1;33m.\u001b[0m\u001b[0mget_loc\u001b[0m\u001b[1;33m(\u001b[0m\u001b[0mkey\u001b[0m\u001b[1;33m)\u001b[0m\u001b[1;33m\u001b[0m\u001b[1;33m\u001b[0m\u001b[0m\n\u001b[0m\u001b[0;32m   3456\u001b[0m             \u001b[1;32mif\u001b[0m \u001b[0mis_integer\u001b[0m\u001b[1;33m(\u001b[0m\u001b[0mindexer\u001b[0m\u001b[1;33m)\u001b[0m\u001b[1;33m:\u001b[0m\u001b[1;33m\u001b[0m\u001b[1;33m\u001b[0m\u001b[0m\n\u001b[0;32m   3457\u001b[0m                 \u001b[0mindexer\u001b[0m \u001b[1;33m=\u001b[0m \u001b[1;33m[\u001b[0m\u001b[0mindexer\u001b[0m\u001b[1;33m]\u001b[0m\u001b[1;33m\u001b[0m\u001b[1;33m\u001b[0m\u001b[0m\n",
      "\u001b[1;32mc:\\users\\codin\\appdata\\local\\programs\\python\\python39\\lib\\site-packages\\pandas\\core\\indexes\\base.py\u001b[0m in \u001b[0;36mget_loc\u001b[1;34m(self, key, method, tolerance)\u001b[0m\n\u001b[0;32m   3361\u001b[0m                 \u001b[1;32mreturn\u001b[0m \u001b[0mself\u001b[0m\u001b[1;33m.\u001b[0m\u001b[0m_engine\u001b[0m\u001b[1;33m.\u001b[0m\u001b[0mget_loc\u001b[0m\u001b[1;33m(\u001b[0m\u001b[0mcasted_key\u001b[0m\u001b[1;33m)\u001b[0m\u001b[1;33m\u001b[0m\u001b[1;33m\u001b[0m\u001b[0m\n\u001b[0;32m   3362\u001b[0m             \u001b[1;32mexcept\u001b[0m \u001b[0mKeyError\u001b[0m \u001b[1;32mas\u001b[0m \u001b[0merr\u001b[0m\u001b[1;33m:\u001b[0m\u001b[1;33m\u001b[0m\u001b[1;33m\u001b[0m\u001b[0m\n\u001b[1;32m-> 3363\u001b[1;33m                 \u001b[1;32mraise\u001b[0m \u001b[0mKeyError\u001b[0m\u001b[1;33m(\u001b[0m\u001b[0mkey\u001b[0m\u001b[1;33m)\u001b[0m \u001b[1;32mfrom\u001b[0m \u001b[0merr\u001b[0m\u001b[1;33m\u001b[0m\u001b[1;33m\u001b[0m\u001b[0m\n\u001b[0m\u001b[0;32m   3364\u001b[0m \u001b[1;33m\u001b[0m\u001b[0m\n\u001b[0;32m   3365\u001b[0m         \u001b[1;32mif\u001b[0m \u001b[0mis_scalar\u001b[0m\u001b[1;33m(\u001b[0m\u001b[0mkey\u001b[0m\u001b[1;33m)\u001b[0m \u001b[1;32mand\u001b[0m \u001b[0misna\u001b[0m\u001b[1;33m(\u001b[0m\u001b[0mkey\u001b[0m\u001b[1;33m)\u001b[0m \u001b[1;32mand\u001b[0m \u001b[1;32mnot\u001b[0m \u001b[0mself\u001b[0m\u001b[1;33m.\u001b[0m\u001b[0mhasnans\u001b[0m\u001b[1;33m:\u001b[0m\u001b[1;33m\u001b[0m\u001b[1;33m\u001b[0m\u001b[0m\n",
      "\u001b[1;31mKeyError\u001b[0m: 'Deaths / 100 Cases'"
     ]
    }
   ],
   "source": [
    "\n",
    "remove_col(country_wise, 'Deaths / 100 Cases', 'Deathsp100')\n",
    "remove_col(country_wise, 'Recovered / 100 Cases', 'Recoveredp100')\n",
    "remove_col(country_wise, 'Deaths / 100 Recovered', 'Deathsp100Recovered')\n",
    "remove_col(country_wise, 'Deaths / 100 Cases', 'Deathsp10athsp100')"
   ]
  },
  {
   "cell_type": "code",
   "execution_count": 50,
   "id": "5d70b042",
   "metadata": {},
   "outputs": [
    {
     "data": {
      "text/plain": [
       "Country/Region         0\n",
       "Confirmed              0\n",
       "Deaths                 0\n",
       "Recovered              0\n",
       "Active                 0\n",
       "New cases              0\n",
       "New deaths             0\n",
       "New recovered          0\n",
       "Confirmed last week    0\n",
       "1 week change          0\n",
       "1 week % increase      0\n",
       "WHO Region             0\n",
       "Deathsp100             0\n",
       "Recoveredp100          0\n",
       "Deathsp100Recovered    5\n",
       "Deathsp10athsp100      0\n",
       "dtype: int64"
      ]
     },
     "execution_count": 50,
     "metadata": {},
     "output_type": "execute_result"
    }
   ],
   "source": [
    "(country_wise==np.inf).sum()"
   ]
  },
  {
   "cell_type": "code",
   "execution_count": 55,
   "id": "2c3ac3c4",
   "metadata": {},
   "outputs": [
    {
     "data": {
      "text/html": [
       "<div>\n",
       "<style scoped>\n",
       "    .dataframe tbody tr th:only-of-type {\n",
       "        vertical-align: middle;\n",
       "    }\n",
       "\n",
       "    .dataframe tbody tr th {\n",
       "        vertical-align: top;\n",
       "    }\n",
       "\n",
       "    .dataframe thead th {\n",
       "        text-align: right;\n",
       "    }\n",
       "</style>\n",
       "<table border=\"1\" class=\"dataframe\">\n",
       "  <thead>\n",
       "    <tr style=\"text-align: right;\">\n",
       "      <th></th>\n",
       "      <th>Country/Region</th>\n",
       "      <th>Confirmed</th>\n",
       "      <th>Deaths</th>\n",
       "      <th>Recovered</th>\n",
       "      <th>Active</th>\n",
       "      <th>New cases</th>\n",
       "      <th>New deaths</th>\n",
       "      <th>New recovered</th>\n",
       "      <th>Confirmed last week</th>\n",
       "      <th>1 week change</th>\n",
       "      <th>1 week % increase</th>\n",
       "      <th>WHO Region</th>\n",
       "      <th>Deathsp100</th>\n",
       "      <th>Recoveredp100</th>\n",
       "      <th>Deathsp100Recovered</th>\n",
       "      <th>Deathsp10athsp100</th>\n",
       "    </tr>\n",
       "  </thead>\n",
       "  <tbody>\n",
       "    <tr>\n",
       "      <th>32</th>\n",
       "      <td>Canada</td>\n",
       "      <td>116458</td>\n",
       "      <td>8944</td>\n",
       "      <td>0</td>\n",
       "      <td>107514</td>\n",
       "      <td>682</td>\n",
       "      <td>11</td>\n",
       "      <td>0</td>\n",
       "      <td>112925</td>\n",
       "      <td>3533</td>\n",
       "      <td>3.13</td>\n",
       "      <td>Americas</td>\n",
       "      <td>7.68</td>\n",
       "      <td>0.0</td>\n",
       "      <td>inf</td>\n",
       "      <td>7.68</td>\n",
       "    </tr>\n",
       "    <tr>\n",
       "      <th>117</th>\n",
       "      <td>Mozambique</td>\n",
       "      <td>1701</td>\n",
       "      <td>11</td>\n",
       "      <td>0</td>\n",
       "      <td>1690</td>\n",
       "      <td>32</td>\n",
       "      <td>0</td>\n",
       "      <td>0</td>\n",
       "      <td>1507</td>\n",
       "      <td>194</td>\n",
       "      <td>12.87</td>\n",
       "      <td>Africa</td>\n",
       "      <td>0.65</td>\n",
       "      <td>0.0</td>\n",
       "      <td>inf</td>\n",
       "      <td>0.65</td>\n",
       "    </tr>\n",
       "    <tr>\n",
       "      <th>147</th>\n",
       "      <td>Serbia</td>\n",
       "      <td>24141</td>\n",
       "      <td>543</td>\n",
       "      <td>0</td>\n",
       "      <td>23598</td>\n",
       "      <td>411</td>\n",
       "      <td>9</td>\n",
       "      <td>0</td>\n",
       "      <td>21253</td>\n",
       "      <td>2888</td>\n",
       "      <td>13.59</td>\n",
       "      <td>Europe</td>\n",
       "      <td>2.25</td>\n",
       "      <td>0.0</td>\n",
       "      <td>inf</td>\n",
       "      <td>2.25</td>\n",
       "    </tr>\n",
       "    <tr>\n",
       "      <th>161</th>\n",
       "      <td>Sweden</td>\n",
       "      <td>79395</td>\n",
       "      <td>5700</td>\n",
       "      <td>0</td>\n",
       "      <td>73695</td>\n",
       "      <td>398</td>\n",
       "      <td>3</td>\n",
       "      <td>0</td>\n",
       "      <td>78048</td>\n",
       "      <td>1347</td>\n",
       "      <td>1.73</td>\n",
       "      <td>Europe</td>\n",
       "      <td>7.18</td>\n",
       "      <td>0.0</td>\n",
       "      <td>inf</td>\n",
       "      <td>7.18</td>\n",
       "    </tr>\n",
       "    <tr>\n",
       "      <th>163</th>\n",
       "      <td>Syria</td>\n",
       "      <td>674</td>\n",
       "      <td>40</td>\n",
       "      <td>0</td>\n",
       "      <td>634</td>\n",
       "      <td>24</td>\n",
       "      <td>2</td>\n",
       "      <td>0</td>\n",
       "      <td>522</td>\n",
       "      <td>152</td>\n",
       "      <td>29.12</td>\n",
       "      <td>Eastern Mediterranean</td>\n",
       "      <td>5.93</td>\n",
       "      <td>0.0</td>\n",
       "      <td>inf</td>\n",
       "      <td>5.93</td>\n",
       "    </tr>\n",
       "  </tbody>\n",
       "</table>\n",
       "</div>"
      ],
      "text/plain": [
       "    Country/Region  Confirmed  Deaths  Recovered  Active  New cases  \\\n",
       "32          Canada     116458    8944          0  107514        682   \n",
       "117     Mozambique       1701      11          0    1690         32   \n",
       "147         Serbia      24141     543          0   23598        411   \n",
       "161         Sweden      79395    5700          0   73695        398   \n",
       "163          Syria        674      40          0     634         24   \n",
       "\n",
       "     New deaths  New recovered  Confirmed last week  1 week change  \\\n",
       "32           11              0               112925           3533   \n",
       "117           0              0                 1507            194   \n",
       "147           9              0                21253           2888   \n",
       "161           3              0                78048           1347   \n",
       "163           2              0                  522            152   \n",
       "\n",
       "     1 week % increase             WHO Region  Deathsp100  Recoveredp100  \\\n",
       "32                3.13               Americas        7.68            0.0   \n",
       "117              12.87                 Africa        0.65            0.0   \n",
       "147              13.59                 Europe        2.25            0.0   \n",
       "161               1.73                 Europe        7.18            0.0   \n",
       "163              29.12  Eastern Mediterranean        5.93            0.0   \n",
       "\n",
       "     Deathsp100Recovered  Deathsp10athsp100  \n",
       "32                   inf               7.68  \n",
       "117                  inf               0.65  \n",
       "147                  inf               2.25  \n",
       "161                  inf               7.18  \n",
       "163                  inf               5.93  "
      ]
     },
     "execution_count": 55,
     "metadata": {},
     "output_type": "execute_result"
    }
   ],
   "source": [
    "country_wise[country_wise['Deathsp100Recovered'] == np.inf]"
   ]
  },
  {
   "cell_type": "code",
   "execution_count": 59,
   "id": "8f83f8f6",
   "metadata": {},
   "outputs": [
    {
     "name": "stderr",
     "output_type": "stream",
     "text": [
      "c:\\users\\codin\\appdata\\local\\programs\\python\\python39\\lib\\site-packages\\pandas\\core\\indexing.py:1732: SettingWithCopyWarning: \n",
      "A value is trying to be set on a copy of a slice from a DataFrame\n",
      "\n",
      "See the caveats in the documentation: https://pandas.pydata.org/pandas-docs/stable/user_guide/indexing.html#returning-a-view-versus-a-copy\n",
      "  self._setitem_single_block(indexer, value, name)\n"
     ]
    }
   ],
   "source": [
    "country_wise['Deathsp100Recovered'].loc[country_wise['Deathsp100Recovered'] == np.inf] = 0# [country_wise['Deathsp100Recovered'] == np.inf ] = 0"
   ]
  },
  {
   "cell_type": "code",
   "execution_count": 60,
   "id": "6fcc5792",
   "metadata": {},
   "outputs": [
    {
     "data": {
      "text/plain": [
       "Country/Region         0\n",
       "Confirmed              0\n",
       "Deaths                 0\n",
       "Recovered              0\n",
       "Active                 0\n",
       "New cases              0\n",
       "New deaths             0\n",
       "New recovered          0\n",
       "Confirmed last week    0\n",
       "1 week change          0\n",
       "1 week % increase      0\n",
       "WHO Region             0\n",
       "Deathsp100             0\n",
       "Recoveredp100          0\n",
       "Deathsp100Recovered    0\n",
       "Deathsp10athsp100      0\n",
       "dtype: int64"
      ]
     },
     "execution_count": 60,
     "metadata": {},
     "output_type": "execute_result"
    }
   ],
   "source": [
    "(country_wise==np.inf).sum()"
   ]
  },
  {
   "cell_type": "code",
   "execution_count": 69,
   "id": "06e415de",
   "metadata": {},
   "outputs": [
    {
     "data": {
      "text/plain": [
       "array(['Eastern Mediterranean', 'Europe', 'Africa', 'Americas',\n",
       "       'Western Pacific', 'South-East Asia'], dtype=object)"
      ]
     },
     "execution_count": 69,
     "metadata": {},
     "output_type": "execute_result"
    }
   ],
   "source": [
    "country_wise['WHO Region'].unique()"
   ]
  },
  {
   "cell_type": "code",
   "execution_count": 148,
   "id": "bfbf9088",
   "metadata": {},
   "outputs": [],
   "source": [
    "group_by_who_region = country_wise.groupby('WHO Region')"
   ]
  },
  {
   "cell_type": "code",
   "execution_count": null,
   "id": "8a7b9f09",
   "metadata": {},
   "outputs": [],
   "source": []
  },
  {
   "cell_type": "code",
   "execution_count": 149,
   "id": "a08e43a1",
   "metadata": {},
   "outputs": [],
   "source": [
    "region_sum = group_by_who_region.agg('sum')"
   ]
  },
  {
   "cell_type": "code",
   "execution_count": 150,
   "id": "e7dfa7a1",
   "metadata": {},
   "outputs": [],
   "source": [
    "regions = country_wise['WHO Region'].unique().tolist()\n",
    "countries_per_region = {}\n",
    "\n",
    "for region in regions:\n",
    "    countries_per_region[region] = (country_wise['WHO Region'] == region).sum()"
   ]
  },
  {
   "cell_type": "code",
   "execution_count": 151,
   "id": "d4fd8b61",
   "metadata": {},
   "outputs": [
    {
     "data": {
      "text/plain": [
       "{'Eastern Mediterranean': 22,\n",
       " 'Europe': 56,\n",
       " 'Africa': 48,\n",
       " 'Americas': 35,\n",
       " 'Western Pacific': 16,\n",
       " 'South-East Asia': 10}"
      ]
     },
     "execution_count": 151,
     "metadata": {},
     "output_type": "execute_result"
    }
   ],
   "source": [
    "countries_per_region"
   ]
  },
  {
   "cell_type": "code",
   "execution_count": 152,
   "id": "08f51cb3",
   "metadata": {},
   "outputs": [
    {
     "data": {
      "text/html": [
       "<div>\n",
       "<style scoped>\n",
       "    .dataframe tbody tr th:only-of-type {\n",
       "        vertical-align: middle;\n",
       "    }\n",
       "\n",
       "    .dataframe tbody tr th {\n",
       "        vertical-align: top;\n",
       "    }\n",
       "\n",
       "    .dataframe thead th {\n",
       "        text-align: right;\n",
       "    }\n",
       "</style>\n",
       "<table border=\"1\" class=\"dataframe\">\n",
       "  <thead>\n",
       "    <tr style=\"text-align: right;\">\n",
       "      <th></th>\n",
       "      <th>Confirmed</th>\n",
       "      <th>Deaths</th>\n",
       "      <th>Recovered</th>\n",
       "      <th>Active</th>\n",
       "      <th>New cases</th>\n",
       "      <th>New deaths</th>\n",
       "      <th>New recovered</th>\n",
       "      <th>Confirmed last week</th>\n",
       "      <th>1 week change</th>\n",
       "      <th>1 week % increase</th>\n",
       "      <th>Deathsp100</th>\n",
       "      <th>Recoveredp100</th>\n",
       "      <th>Deathsp100Recovered</th>\n",
       "      <th>Deathsp10athsp100</th>\n",
       "    </tr>\n",
       "    <tr>\n",
       "      <th>WHO Region</th>\n",
       "      <th></th>\n",
       "      <th></th>\n",
       "      <th></th>\n",
       "      <th></th>\n",
       "      <th></th>\n",
       "      <th></th>\n",
       "      <th></th>\n",
       "      <th></th>\n",
       "      <th></th>\n",
       "      <th></th>\n",
       "      <th></th>\n",
       "      <th></th>\n",
       "      <th></th>\n",
       "      <th></th>\n",
       "    </tr>\n",
       "  </thead>\n",
       "  <tbody>\n",
       "    <tr>\n",
       "      <th>Africa</th>\n",
       "      <td>723207</td>\n",
       "      <td>12223</td>\n",
       "      <td>440645</td>\n",
       "      <td>270339</td>\n",
       "      <td>12176</td>\n",
       "      <td>353</td>\n",
       "      <td>14563</td>\n",
       "      <td>608120</td>\n",
       "      <td>115087</td>\n",
       "      <td>868.15</td>\n",
       "      <td>110.71</td>\n",
       "      <td>2736.71</td>\n",
       "      <td>216.27</td>\n",
       "      <td>110.71</td>\n",
       "    </tr>\n",
       "    <tr>\n",
       "      <th>Americas</th>\n",
       "      <td>8839286</td>\n",
       "      <td>342732</td>\n",
       "      <td>4468616</td>\n",
       "      <td>4027938</td>\n",
       "      <td>129531</td>\n",
       "      <td>3555</td>\n",
       "      <td>94776</td>\n",
       "      <td>7815198</td>\n",
       "      <td>1024088</td>\n",
       "      <td>571.59</td>\n",
       "      <td>106.84</td>\n",
       "      <td>2180.20</td>\n",
       "      <td>194.70</td>\n",
       "      <td>106.84</td>\n",
       "    </tr>\n",
       "    <tr>\n",
       "      <th>Eastern Mediterranean</th>\n",
       "      <td>1490744</td>\n",
       "      <td>38339</td>\n",
       "      <td>1201400</td>\n",
       "      <td>251005</td>\n",
       "      <td>12410</td>\n",
       "      <td>445</td>\n",
       "      <td>14843</td>\n",
       "      <td>1398847</td>\n",
       "      <td>91897</td>\n",
       "      <td>230.61</td>\n",
       "      <td>78.39</td>\n",
       "      <td>1465.05</td>\n",
       "      <td>137.51</td>\n",
       "      <td>78.39</td>\n",
       "    </tr>\n",
       "    <tr>\n",
       "      <th>Europe</th>\n",
       "      <td>3299523</td>\n",
       "      <td>211144</td>\n",
       "      <td>1993723</td>\n",
       "      <td>1094656</td>\n",
       "      <td>22294</td>\n",
       "      <td>304</td>\n",
       "      <td>11732</td>\n",
       "      <td>3146816</td>\n",
       "      <td>152707</td>\n",
       "      <td>435.10</td>\n",
       "      <td>235.11</td>\n",
       "      <td>3843.56</td>\n",
       "      <td>6784.97</td>\n",
       "      <td>235.11</td>\n",
       "    </tr>\n",
       "    <tr>\n",
       "      <th>South-East Asia</th>\n",
       "      <td>1835297</td>\n",
       "      <td>41349</td>\n",
       "      <td>1156933</td>\n",
       "      <td>637015</td>\n",
       "      <td>48993</td>\n",
       "      <td>734</td>\n",
       "      <td>37582</td>\n",
       "      <td>1478283</td>\n",
       "      <td>357014</td>\n",
       "      <td>85.13</td>\n",
       "      <td>12.96</td>\n",
       "      <td>667.04</td>\n",
       "      <td>19.56</td>\n",
       "      <td>12.96</td>\n",
       "    </tr>\n",
       "  </tbody>\n",
       "</table>\n",
       "</div>"
      ],
      "text/plain": [
       "                       Confirmed  Deaths  Recovered   Active  New cases  \\\n",
       "WHO Region                                                                \n",
       "Africa                    723207   12223     440645   270339      12176   \n",
       "Americas                 8839286  342732    4468616  4027938     129531   \n",
       "Eastern Mediterranean    1490744   38339    1201400   251005      12410   \n",
       "Europe                   3299523  211144    1993723  1094656      22294   \n",
       "South-East Asia          1835297   41349    1156933   637015      48993   \n",
       "\n",
       "                       New deaths  New recovered  Confirmed last week  \\\n",
       "WHO Region                                                              \n",
       "Africa                        353          14563               608120   \n",
       "Americas                     3555          94776              7815198   \n",
       "Eastern Mediterranean         445          14843              1398847   \n",
       "Europe                        304          11732              3146816   \n",
       "South-East Asia               734          37582              1478283   \n",
       "\n",
       "                       1 week change  1 week % increase  Deathsp100  \\\n",
       "WHO Region                                                            \n",
       "Africa                        115087             868.15      110.71   \n",
       "Americas                     1024088             571.59      106.84   \n",
       "Eastern Mediterranean          91897             230.61       78.39   \n",
       "Europe                        152707             435.10      235.11   \n",
       "South-East Asia               357014              85.13       12.96   \n",
       "\n",
       "                       Recoveredp100  Deathsp100Recovered  Deathsp10athsp100  \n",
       "WHO Region                                                                    \n",
       "Africa                       2736.71               216.27             110.71  \n",
       "Americas                     2180.20               194.70             106.84  \n",
       "Eastern Mediterranean        1465.05               137.51              78.39  \n",
       "Europe                       3843.56              6784.97             235.11  \n",
       "South-East Asia               667.04                19.56              12.96  "
      ]
     },
     "execution_count": 152,
     "metadata": {},
     "output_type": "execute_result"
    }
   ],
   "source": [
    "region_sum.head()"
   ]
  },
  {
   "cell_type": "code",
   "execution_count": 153,
   "id": "2145bb80",
   "metadata": {},
   "outputs": [],
   "source": [
    "region_sum['1 week % increase'] = region_sum['1 week change']/region_sum['Confirmed last week']\n",
    "#region_sum.apply(lambda x: x['Deathsp100']=x['Deathsp100']/countries_per_region[x['WHO Region']])# = region_sum['Deathsp100']/"
   ]
  },
  {
   "cell_type": "code",
   "execution_count": 154,
   "id": "64eba580",
   "metadata": {},
   "outputs": [],
   "source": [
    "region_sum['Deathsp100'] = region_sum.apply(lambda x: x['Deathsp100']/countries_per_region[x.name], axis=1)"
   ]
  },
  {
   "cell_type": "code",
   "execution_count": 155,
   "id": "908c7da4",
   "metadata": {},
   "outputs": [
    {
     "data": {
      "text/html": [
       "<div>\n",
       "<style scoped>\n",
       "    .dataframe tbody tr th:only-of-type {\n",
       "        vertical-align: middle;\n",
       "    }\n",
       "\n",
       "    .dataframe tbody tr th {\n",
       "        vertical-align: top;\n",
       "    }\n",
       "\n",
       "    .dataframe thead th {\n",
       "        text-align: right;\n",
       "    }\n",
       "</style>\n",
       "<table border=\"1\" class=\"dataframe\">\n",
       "  <thead>\n",
       "    <tr style=\"text-align: right;\">\n",
       "      <th></th>\n",
       "      <th>Confirmed</th>\n",
       "      <th>Deaths</th>\n",
       "      <th>Recovered</th>\n",
       "      <th>Active</th>\n",
       "      <th>New cases</th>\n",
       "      <th>New deaths</th>\n",
       "      <th>New recovered</th>\n",
       "      <th>Confirmed last week</th>\n",
       "      <th>1 week change</th>\n",
       "      <th>1 week % increase</th>\n",
       "      <th>Deathsp100</th>\n",
       "      <th>Recoveredp100</th>\n",
       "      <th>Deathsp100Recovered</th>\n",
       "      <th>Deathsp10athsp100</th>\n",
       "    </tr>\n",
       "    <tr>\n",
       "      <th>WHO Region</th>\n",
       "      <th></th>\n",
       "      <th></th>\n",
       "      <th></th>\n",
       "      <th></th>\n",
       "      <th></th>\n",
       "      <th></th>\n",
       "      <th></th>\n",
       "      <th></th>\n",
       "      <th></th>\n",
       "      <th></th>\n",
       "      <th></th>\n",
       "      <th></th>\n",
       "      <th></th>\n",
       "      <th></th>\n",
       "    </tr>\n",
       "  </thead>\n",
       "  <tbody>\n",
       "    <tr>\n",
       "      <th>Africa</th>\n",
       "      <td>723207</td>\n",
       "      <td>12223</td>\n",
       "      <td>440645</td>\n",
       "      <td>270339</td>\n",
       "      <td>12176</td>\n",
       "      <td>353</td>\n",
       "      <td>14563</td>\n",
       "      <td>608120</td>\n",
       "      <td>115087</td>\n",
       "      <td>0.189250</td>\n",
       "      <td>2.306458</td>\n",
       "      <td>2736.71</td>\n",
       "      <td>216.27</td>\n",
       "      <td>110.71</td>\n",
       "    </tr>\n",
       "    <tr>\n",
       "      <th>Americas</th>\n",
       "      <td>8839286</td>\n",
       "      <td>342732</td>\n",
       "      <td>4468616</td>\n",
       "      <td>4027938</td>\n",
       "      <td>129531</td>\n",
       "      <td>3555</td>\n",
       "      <td>94776</td>\n",
       "      <td>7815198</td>\n",
       "      <td>1024088</td>\n",
       "      <td>0.131038</td>\n",
       "      <td>3.052571</td>\n",
       "      <td>2180.20</td>\n",
       "      <td>194.70</td>\n",
       "      <td>106.84</td>\n",
       "    </tr>\n",
       "    <tr>\n",
       "      <th>Eastern Mediterranean</th>\n",
       "      <td>1490744</td>\n",
       "      <td>38339</td>\n",
       "      <td>1201400</td>\n",
       "      <td>251005</td>\n",
       "      <td>12410</td>\n",
       "      <td>445</td>\n",
       "      <td>14843</td>\n",
       "      <td>1398847</td>\n",
       "      <td>91897</td>\n",
       "      <td>0.065695</td>\n",
       "      <td>3.563182</td>\n",
       "      <td>1465.05</td>\n",
       "      <td>137.51</td>\n",
       "      <td>78.39</td>\n",
       "    </tr>\n",
       "    <tr>\n",
       "      <th>Europe</th>\n",
       "      <td>3299523</td>\n",
       "      <td>211144</td>\n",
       "      <td>1993723</td>\n",
       "      <td>1094656</td>\n",
       "      <td>22294</td>\n",
       "      <td>304</td>\n",
       "      <td>11732</td>\n",
       "      <td>3146816</td>\n",
       "      <td>152707</td>\n",
       "      <td>0.048527</td>\n",
       "      <td>4.198393</td>\n",
       "      <td>3843.56</td>\n",
       "      <td>6784.97</td>\n",
       "      <td>235.11</td>\n",
       "    </tr>\n",
       "    <tr>\n",
       "      <th>South-East Asia</th>\n",
       "      <td>1835297</td>\n",
       "      <td>41349</td>\n",
       "      <td>1156933</td>\n",
       "      <td>637015</td>\n",
       "      <td>48993</td>\n",
       "      <td>734</td>\n",
       "      <td>37582</td>\n",
       "      <td>1478283</td>\n",
       "      <td>357014</td>\n",
       "      <td>0.241506</td>\n",
       "      <td>1.296000</td>\n",
       "      <td>667.04</td>\n",
       "      <td>19.56</td>\n",
       "      <td>12.96</td>\n",
       "    </tr>\n",
       "    <tr>\n",
       "      <th>Western Pacific</th>\n",
       "      <td>292428</td>\n",
       "      <td>8249</td>\n",
       "      <td>206770</td>\n",
       "      <td>77409</td>\n",
       "      <td>3289</td>\n",
       "      <td>24</td>\n",
       "      <td>1127</td>\n",
       "      <td>266359</td>\n",
       "      <td>26069</td>\n",
       "      <td>0.097872</td>\n",
       "      <td>1.290000</td>\n",
       "      <td>1228.88</td>\n",
       "      <td>28.60</td>\n",
       "      <td>20.64</td>\n",
       "    </tr>\n",
       "  </tbody>\n",
       "</table>\n",
       "</div>"
      ],
      "text/plain": [
       "                       Confirmed  Deaths  Recovered   Active  New cases  \\\n",
       "WHO Region                                                                \n",
       "Africa                    723207   12223     440645   270339      12176   \n",
       "Americas                 8839286  342732    4468616  4027938     129531   \n",
       "Eastern Mediterranean    1490744   38339    1201400   251005      12410   \n",
       "Europe                   3299523  211144    1993723  1094656      22294   \n",
       "South-East Asia          1835297   41349    1156933   637015      48993   \n",
       "Western Pacific           292428    8249     206770    77409       3289   \n",
       "\n",
       "                       New deaths  New recovered  Confirmed last week  \\\n",
       "WHO Region                                                              \n",
       "Africa                        353          14563               608120   \n",
       "Americas                     3555          94776              7815198   \n",
       "Eastern Mediterranean         445          14843              1398847   \n",
       "Europe                        304          11732              3146816   \n",
       "South-East Asia               734          37582              1478283   \n",
       "Western Pacific                24           1127               266359   \n",
       "\n",
       "                       1 week change  1 week % increase  Deathsp100  \\\n",
       "WHO Region                                                            \n",
       "Africa                        115087           0.189250    2.306458   \n",
       "Americas                     1024088           0.131038    3.052571   \n",
       "Eastern Mediterranean          91897           0.065695    3.563182   \n",
       "Europe                        152707           0.048527    4.198393   \n",
       "South-East Asia               357014           0.241506    1.296000   \n",
       "Western Pacific                26069           0.097872    1.290000   \n",
       "\n",
       "                       Recoveredp100  Deathsp100Recovered  Deathsp10athsp100  \n",
       "WHO Region                                                                    \n",
       "Africa                       2736.71               216.27             110.71  \n",
       "Americas                     2180.20               194.70             106.84  \n",
       "Eastern Mediterranean        1465.05               137.51              78.39  \n",
       "Europe                       3843.56              6784.97             235.11  \n",
       "South-East Asia               667.04                19.56              12.96  \n",
       "Western Pacific              1228.88                28.60              20.64  "
      ]
     },
     "execution_count": 155,
     "metadata": {},
     "output_type": "execute_result"
    }
   ],
   "source": [
    "region_sum"
   ]
  },
  {
   "cell_type": "code",
   "execution_count": 157,
   "id": "29f84486",
   "metadata": {},
   "outputs": [
    {
     "data": {
      "text/html": [
       "<div>\n",
       "<style scoped>\n",
       "    .dataframe tbody tr th:only-of-type {\n",
       "        vertical-align: middle;\n",
       "    }\n",
       "\n",
       "    .dataframe tbody tr th {\n",
       "        vertical-align: top;\n",
       "    }\n",
       "\n",
       "    .dataframe thead th {\n",
       "        text-align: right;\n",
       "    }\n",
       "</style>\n",
       "<table border=\"1\" class=\"dataframe\">\n",
       "  <thead>\n",
       "    <tr style=\"text-align: right;\">\n",
       "      <th></th>\n",
       "      <th>Confirmed</th>\n",
       "      <th>Deaths</th>\n",
       "      <th>Recovered</th>\n",
       "      <th>Active</th>\n",
       "      <th>New cases</th>\n",
       "      <th>New deaths</th>\n",
       "      <th>New recovered</th>\n",
       "      <th>Confirmed last week</th>\n",
       "      <th>1 week change</th>\n",
       "      <th>1 week % increase</th>\n",
       "      <th>Deathsp100</th>\n",
       "      <th>Recoveredp100</th>\n",
       "      <th>Deathsp100Recovered</th>\n",
       "      <th>Deathsp10athsp100</th>\n",
       "    </tr>\n",
       "    <tr>\n",
       "      <th>WHO Region</th>\n",
       "      <th></th>\n",
       "      <th></th>\n",
       "      <th></th>\n",
       "      <th></th>\n",
       "      <th></th>\n",
       "      <th></th>\n",
       "      <th></th>\n",
       "      <th></th>\n",
       "      <th></th>\n",
       "      <th></th>\n",
       "      <th></th>\n",
       "      <th></th>\n",
       "      <th></th>\n",
       "      <th></th>\n",
       "    </tr>\n",
       "  </thead>\n",
       "  <tbody>\n",
       "    <tr>\n",
       "      <th>Africa</th>\n",
       "      <td>723207</td>\n",
       "      <td>12223</td>\n",
       "      <td>440645</td>\n",
       "      <td>270339</td>\n",
       "      <td>12176</td>\n",
       "      <td>353</td>\n",
       "      <td>14563</td>\n",
       "      <td>608120</td>\n",
       "      <td>115087</td>\n",
       "      <td>0.189250</td>\n",
       "      <td>2.306458</td>\n",
       "      <td>1.187808</td>\n",
       "      <td>216.27</td>\n",
       "      <td>110.71</td>\n",
       "    </tr>\n",
       "    <tr>\n",
       "      <th>Americas</th>\n",
       "      <td>8839286</td>\n",
       "      <td>342732</td>\n",
       "      <td>4468616</td>\n",
       "      <td>4027938</td>\n",
       "      <td>129531</td>\n",
       "      <td>3555</td>\n",
       "      <td>94776</td>\n",
       "      <td>7815198</td>\n",
       "      <td>1024088</td>\n",
       "      <td>0.131038</td>\n",
       "      <td>3.052571</td>\n",
       "      <td>1.779755</td>\n",
       "      <td>194.70</td>\n",
       "      <td>106.84</td>\n",
       "    </tr>\n",
       "    <tr>\n",
       "      <th>Eastern Mediterranean</th>\n",
       "      <td>1490744</td>\n",
       "      <td>38339</td>\n",
       "      <td>1201400</td>\n",
       "      <td>251005</td>\n",
       "      <td>12410</td>\n",
       "      <td>445</td>\n",
       "      <td>14843</td>\n",
       "      <td>1398847</td>\n",
       "      <td>91897</td>\n",
       "      <td>0.065695</td>\n",
       "      <td>3.563182</td>\n",
       "      <td>3.026963</td>\n",
       "      <td>137.51</td>\n",
       "      <td>78.39</td>\n",
       "    </tr>\n",
       "    <tr>\n",
       "      <th>Europe</th>\n",
       "      <td>3299523</td>\n",
       "      <td>211144</td>\n",
       "      <td>1993723</td>\n",
       "      <td>1094656</td>\n",
       "      <td>22294</td>\n",
       "      <td>304</td>\n",
       "      <td>11732</td>\n",
       "      <td>3146816</td>\n",
       "      <td>152707</td>\n",
       "      <td>0.048527</td>\n",
       "      <td>4.198393</td>\n",
       "      <td>1.225625</td>\n",
       "      <td>6784.97</td>\n",
       "      <td>235.11</td>\n",
       "    </tr>\n",
       "    <tr>\n",
       "      <th>South-East Asia</th>\n",
       "      <td>1835297</td>\n",
       "      <td>41349</td>\n",
       "      <td>1156933</td>\n",
       "      <td>637015</td>\n",
       "      <td>48993</td>\n",
       "      <td>734</td>\n",
       "      <td>37582</td>\n",
       "      <td>1478283</td>\n",
       "      <td>357014</td>\n",
       "      <td>0.241506</td>\n",
       "      <td>1.296000</td>\n",
       "      <td>6.670400</td>\n",
       "      <td>19.56</td>\n",
       "      <td>12.96</td>\n",
       "    </tr>\n",
       "    <tr>\n",
       "      <th>Western Pacific</th>\n",
       "      <td>292428</td>\n",
       "      <td>8249</td>\n",
       "      <td>206770</td>\n",
       "      <td>77409</td>\n",
       "      <td>3289</td>\n",
       "      <td>24</td>\n",
       "      <td>1127</td>\n",
       "      <td>266359</td>\n",
       "      <td>26069</td>\n",
       "      <td>0.097872</td>\n",
       "      <td>1.290000</td>\n",
       "      <td>4.800312</td>\n",
       "      <td>28.60</td>\n",
       "      <td>20.64</td>\n",
       "    </tr>\n",
       "  </tbody>\n",
       "</table>\n",
       "</div>"
      ],
      "text/plain": [
       "                       Confirmed  Deaths  Recovered   Active  New cases  \\\n",
       "WHO Region                                                                \n",
       "Africa                    723207   12223     440645   270339      12176   \n",
       "Americas                 8839286  342732    4468616  4027938     129531   \n",
       "Eastern Mediterranean    1490744   38339    1201400   251005      12410   \n",
       "Europe                   3299523  211144    1993723  1094656      22294   \n",
       "South-East Asia          1835297   41349    1156933   637015      48993   \n",
       "Western Pacific           292428    8249     206770    77409       3289   \n",
       "\n",
       "                       New deaths  New recovered  Confirmed last week  \\\n",
       "WHO Region                                                              \n",
       "Africa                        353          14563               608120   \n",
       "Americas                     3555          94776              7815198   \n",
       "Eastern Mediterranean         445          14843              1398847   \n",
       "Europe                        304          11732              3146816   \n",
       "South-East Asia               734          37582              1478283   \n",
       "Western Pacific                24           1127               266359   \n",
       "\n",
       "                       1 week change  1 week % increase  Deathsp100  \\\n",
       "WHO Region                                                            \n",
       "Africa                        115087           0.189250    2.306458   \n",
       "Americas                     1024088           0.131038    3.052571   \n",
       "Eastern Mediterranean          91897           0.065695    3.563182   \n",
       "Europe                        152707           0.048527    4.198393   \n",
       "South-East Asia               357014           0.241506    1.296000   \n",
       "Western Pacific                26069           0.097872    1.290000   \n",
       "\n",
       "                       Recoveredp100  Deathsp100Recovered  Deathsp10athsp100  \n",
       "WHO Region                                                                    \n",
       "Africa                      1.187808               216.27             110.71  \n",
       "Americas                    1.779755               194.70             106.84  \n",
       "Eastern Mediterranean       3.026963               137.51              78.39  \n",
       "Europe                      1.225625              6784.97             235.11  \n",
       "South-East Asia             6.670400                19.56              12.96  \n",
       "Western Pacific             4.800312                28.60              20.64  "
      ]
     },
     "execution_count": 157,
     "metadata": {},
     "output_type": "execute_result"
    }
   ],
   "source": [
    "region_sum['Recoveredp100'] = region_sum.apply(lambda x: x['Recoveredp100']/countries_per_region[x.name], axis=1)\n",
    "region_sum"
   ]
  },
  {
   "cell_type": "code",
   "execution_count": 158,
   "id": "1a6110c2",
   "metadata": {},
   "outputs": [
    {
     "data": {
      "text/html": [
       "<div>\n",
       "<style scoped>\n",
       "    .dataframe tbody tr th:only-of-type {\n",
       "        vertical-align: middle;\n",
       "    }\n",
       "\n",
       "    .dataframe tbody tr th {\n",
       "        vertical-align: top;\n",
       "    }\n",
       "\n",
       "    .dataframe thead th {\n",
       "        text-align: right;\n",
       "    }\n",
       "</style>\n",
       "<table border=\"1\" class=\"dataframe\">\n",
       "  <thead>\n",
       "    <tr style=\"text-align: right;\">\n",
       "      <th></th>\n",
       "      <th>Confirmed</th>\n",
       "      <th>Deaths</th>\n",
       "      <th>Recovered</th>\n",
       "      <th>Active</th>\n",
       "      <th>New cases</th>\n",
       "      <th>New deaths</th>\n",
       "      <th>New recovered</th>\n",
       "      <th>Confirmed last week</th>\n",
       "      <th>1 week change</th>\n",
       "      <th>1 week % increase</th>\n",
       "      <th>Deathsp100</th>\n",
       "      <th>Recoveredp100</th>\n",
       "      <th>Deathsp100Recovered</th>\n",
       "      <th>Deathsp10athsp100</th>\n",
       "    </tr>\n",
       "    <tr>\n",
       "      <th>WHO Region</th>\n",
       "      <th></th>\n",
       "      <th></th>\n",
       "      <th></th>\n",
       "      <th></th>\n",
       "      <th></th>\n",
       "      <th></th>\n",
       "      <th></th>\n",
       "      <th></th>\n",
       "      <th></th>\n",
       "      <th></th>\n",
       "      <th></th>\n",
       "      <th></th>\n",
       "      <th></th>\n",
       "      <th></th>\n",
       "    </tr>\n",
       "  </thead>\n",
       "  <tbody>\n",
       "    <tr>\n",
       "      <th>Africa</th>\n",
       "      <td>723207</td>\n",
       "      <td>12223</td>\n",
       "      <td>440645</td>\n",
       "      <td>270339</td>\n",
       "      <td>12176</td>\n",
       "      <td>353</td>\n",
       "      <td>14563</td>\n",
       "      <td>608120</td>\n",
       "      <td>115087</td>\n",
       "      <td>0.189250</td>\n",
       "      <td>2.306458</td>\n",
       "      <td>1.187808</td>\n",
       "      <td>4.505625</td>\n",
       "      <td>110.71</td>\n",
       "    </tr>\n",
       "    <tr>\n",
       "      <th>Americas</th>\n",
       "      <td>8839286</td>\n",
       "      <td>342732</td>\n",
       "      <td>4468616</td>\n",
       "      <td>4027938</td>\n",
       "      <td>129531</td>\n",
       "      <td>3555</td>\n",
       "      <td>94776</td>\n",
       "      <td>7815198</td>\n",
       "      <td>1024088</td>\n",
       "      <td>0.131038</td>\n",
       "      <td>3.052571</td>\n",
       "      <td>1.779755</td>\n",
       "      <td>5.562857</td>\n",
       "      <td>106.84</td>\n",
       "    </tr>\n",
       "    <tr>\n",
       "      <th>Eastern Mediterranean</th>\n",
       "      <td>1490744</td>\n",
       "      <td>38339</td>\n",
       "      <td>1201400</td>\n",
       "      <td>251005</td>\n",
       "      <td>12410</td>\n",
       "      <td>445</td>\n",
       "      <td>14843</td>\n",
       "      <td>1398847</td>\n",
       "      <td>91897</td>\n",
       "      <td>0.065695</td>\n",
       "      <td>3.563182</td>\n",
       "      <td>3.026963</td>\n",
       "      <td>6.250455</td>\n",
       "      <td>78.39</td>\n",
       "    </tr>\n",
       "    <tr>\n",
       "      <th>Europe</th>\n",
       "      <td>3299523</td>\n",
       "      <td>211144</td>\n",
       "      <td>1993723</td>\n",
       "      <td>1094656</td>\n",
       "      <td>22294</td>\n",
       "      <td>304</td>\n",
       "      <td>11732</td>\n",
       "      <td>3146816</td>\n",
       "      <td>152707</td>\n",
       "      <td>0.048527</td>\n",
       "      <td>4.198393</td>\n",
       "      <td>1.225625</td>\n",
       "      <td>121.160179</td>\n",
       "      <td>235.11</td>\n",
       "    </tr>\n",
       "    <tr>\n",
       "      <th>South-East Asia</th>\n",
       "      <td>1835297</td>\n",
       "      <td>41349</td>\n",
       "      <td>1156933</td>\n",
       "      <td>637015</td>\n",
       "      <td>48993</td>\n",
       "      <td>734</td>\n",
       "      <td>37582</td>\n",
       "      <td>1478283</td>\n",
       "      <td>357014</td>\n",
       "      <td>0.241506</td>\n",
       "      <td>1.296000</td>\n",
       "      <td>6.670400</td>\n",
       "      <td>1.956000</td>\n",
       "      <td>12.96</td>\n",
       "    </tr>\n",
       "    <tr>\n",
       "      <th>Western Pacific</th>\n",
       "      <td>292428</td>\n",
       "      <td>8249</td>\n",
       "      <td>206770</td>\n",
       "      <td>77409</td>\n",
       "      <td>3289</td>\n",
       "      <td>24</td>\n",
       "      <td>1127</td>\n",
       "      <td>266359</td>\n",
       "      <td>26069</td>\n",
       "      <td>0.097872</td>\n",
       "      <td>1.290000</td>\n",
       "      <td>4.800312</td>\n",
       "      <td>1.787500</td>\n",
       "      <td>20.64</td>\n",
       "    </tr>\n",
       "  </tbody>\n",
       "</table>\n",
       "</div>"
      ],
      "text/plain": [
       "                       Confirmed  Deaths  Recovered   Active  New cases  \\\n",
       "WHO Region                                                                \n",
       "Africa                    723207   12223     440645   270339      12176   \n",
       "Americas                 8839286  342732    4468616  4027938     129531   \n",
       "Eastern Mediterranean    1490744   38339    1201400   251005      12410   \n",
       "Europe                   3299523  211144    1993723  1094656      22294   \n",
       "South-East Asia          1835297   41349    1156933   637015      48993   \n",
       "Western Pacific           292428    8249     206770    77409       3289   \n",
       "\n",
       "                       New deaths  New recovered  Confirmed last week  \\\n",
       "WHO Region                                                              \n",
       "Africa                        353          14563               608120   \n",
       "Americas                     3555          94776              7815198   \n",
       "Eastern Mediterranean         445          14843              1398847   \n",
       "Europe                        304          11732              3146816   \n",
       "South-East Asia               734          37582              1478283   \n",
       "Western Pacific                24           1127               266359   \n",
       "\n",
       "                       1 week change  1 week % increase  Deathsp100  \\\n",
       "WHO Region                                                            \n",
       "Africa                        115087           0.189250    2.306458   \n",
       "Americas                     1024088           0.131038    3.052571   \n",
       "Eastern Mediterranean          91897           0.065695    3.563182   \n",
       "Europe                        152707           0.048527    4.198393   \n",
       "South-East Asia               357014           0.241506    1.296000   \n",
       "Western Pacific                26069           0.097872    1.290000   \n",
       "\n",
       "                       Recoveredp100  Deathsp100Recovered  Deathsp10athsp100  \n",
       "WHO Region                                                                    \n",
       "Africa                      1.187808             4.505625             110.71  \n",
       "Americas                    1.779755             5.562857             106.84  \n",
       "Eastern Mediterranean       3.026963             6.250455              78.39  \n",
       "Europe                      1.225625           121.160179             235.11  \n",
       "South-East Asia             6.670400             1.956000              12.96  \n",
       "Western Pacific             4.800312             1.787500              20.64  "
      ]
     },
     "execution_count": 158,
     "metadata": {},
     "output_type": "execute_result"
    }
   ],
   "source": [
    "region_sum['Deathsp100Recovered'] = region_sum.apply(lambda x: x['Deathsp100Recovered']/countries_per_region[x.name], axis=1)\n",
    "region_sum"
   ]
  },
  {
   "cell_type": "code",
   "execution_count": 159,
   "id": "b11e2b64",
   "metadata": {},
   "outputs": [
    {
     "data": {
      "text/html": [
       "<div>\n",
       "<style scoped>\n",
       "    .dataframe tbody tr th:only-of-type {\n",
       "        vertical-align: middle;\n",
       "    }\n",
       "\n",
       "    .dataframe tbody tr th {\n",
       "        vertical-align: top;\n",
       "    }\n",
       "\n",
       "    .dataframe thead th {\n",
       "        text-align: right;\n",
       "    }\n",
       "</style>\n",
       "<table border=\"1\" class=\"dataframe\">\n",
       "  <thead>\n",
       "    <tr style=\"text-align: right;\">\n",
       "      <th></th>\n",
       "      <th>Confirmed</th>\n",
       "      <th>Deaths</th>\n",
       "      <th>Recovered</th>\n",
       "      <th>Active</th>\n",
       "      <th>New cases</th>\n",
       "      <th>New deaths</th>\n",
       "      <th>New recovered</th>\n",
       "      <th>Confirmed last week</th>\n",
       "      <th>1 week change</th>\n",
       "      <th>1 week % increase</th>\n",
       "      <th>Deathsp100</th>\n",
       "      <th>Recoveredp100</th>\n",
       "      <th>Deathsp100Recovered</th>\n",
       "      <th>Deathsp10athsp100</th>\n",
       "    </tr>\n",
       "    <tr>\n",
       "      <th>WHO Region</th>\n",
       "      <th></th>\n",
       "      <th></th>\n",
       "      <th></th>\n",
       "      <th></th>\n",
       "      <th></th>\n",
       "      <th></th>\n",
       "      <th></th>\n",
       "      <th></th>\n",
       "      <th></th>\n",
       "      <th></th>\n",
       "      <th></th>\n",
       "      <th></th>\n",
       "      <th></th>\n",
       "      <th></th>\n",
       "    </tr>\n",
       "  </thead>\n",
       "  <tbody>\n",
       "    <tr>\n",
       "      <th>Africa</th>\n",
       "      <td>723207</td>\n",
       "      <td>12223</td>\n",
       "      <td>440645</td>\n",
       "      <td>270339</td>\n",
       "      <td>12176</td>\n",
       "      <td>353</td>\n",
       "      <td>14563</td>\n",
       "      <td>608120</td>\n",
       "      <td>115087</td>\n",
       "      <td>0.189250</td>\n",
       "      <td>2.306458</td>\n",
       "      <td>1.187808</td>\n",
       "      <td>4.505625</td>\n",
       "      <td>2.306458</td>\n",
       "    </tr>\n",
       "    <tr>\n",
       "      <th>Americas</th>\n",
       "      <td>8839286</td>\n",
       "      <td>342732</td>\n",
       "      <td>4468616</td>\n",
       "      <td>4027938</td>\n",
       "      <td>129531</td>\n",
       "      <td>3555</td>\n",
       "      <td>94776</td>\n",
       "      <td>7815198</td>\n",
       "      <td>1024088</td>\n",
       "      <td>0.131038</td>\n",
       "      <td>3.052571</td>\n",
       "      <td>1.779755</td>\n",
       "      <td>5.562857</td>\n",
       "      <td>3.052571</td>\n",
       "    </tr>\n",
       "    <tr>\n",
       "      <th>Eastern Mediterranean</th>\n",
       "      <td>1490744</td>\n",
       "      <td>38339</td>\n",
       "      <td>1201400</td>\n",
       "      <td>251005</td>\n",
       "      <td>12410</td>\n",
       "      <td>445</td>\n",
       "      <td>14843</td>\n",
       "      <td>1398847</td>\n",
       "      <td>91897</td>\n",
       "      <td>0.065695</td>\n",
       "      <td>3.563182</td>\n",
       "      <td>3.026963</td>\n",
       "      <td>6.250455</td>\n",
       "      <td>3.563182</td>\n",
       "    </tr>\n",
       "    <tr>\n",
       "      <th>Europe</th>\n",
       "      <td>3299523</td>\n",
       "      <td>211144</td>\n",
       "      <td>1993723</td>\n",
       "      <td>1094656</td>\n",
       "      <td>22294</td>\n",
       "      <td>304</td>\n",
       "      <td>11732</td>\n",
       "      <td>3146816</td>\n",
       "      <td>152707</td>\n",
       "      <td>0.048527</td>\n",
       "      <td>4.198393</td>\n",
       "      <td>1.225625</td>\n",
       "      <td>121.160179</td>\n",
       "      <td>4.198393</td>\n",
       "    </tr>\n",
       "    <tr>\n",
       "      <th>South-East Asia</th>\n",
       "      <td>1835297</td>\n",
       "      <td>41349</td>\n",
       "      <td>1156933</td>\n",
       "      <td>637015</td>\n",
       "      <td>48993</td>\n",
       "      <td>734</td>\n",
       "      <td>37582</td>\n",
       "      <td>1478283</td>\n",
       "      <td>357014</td>\n",
       "      <td>0.241506</td>\n",
       "      <td>1.296000</td>\n",
       "      <td>6.670400</td>\n",
       "      <td>1.956000</td>\n",
       "      <td>1.296000</td>\n",
       "    </tr>\n",
       "    <tr>\n",
       "      <th>Western Pacific</th>\n",
       "      <td>292428</td>\n",
       "      <td>8249</td>\n",
       "      <td>206770</td>\n",
       "      <td>77409</td>\n",
       "      <td>3289</td>\n",
       "      <td>24</td>\n",
       "      <td>1127</td>\n",
       "      <td>266359</td>\n",
       "      <td>26069</td>\n",
       "      <td>0.097872</td>\n",
       "      <td>1.290000</td>\n",
       "      <td>4.800312</td>\n",
       "      <td>1.787500</td>\n",
       "      <td>1.290000</td>\n",
       "    </tr>\n",
       "  </tbody>\n",
       "</table>\n",
       "</div>"
      ],
      "text/plain": [
       "                       Confirmed  Deaths  Recovered   Active  New cases  \\\n",
       "WHO Region                                                                \n",
       "Africa                    723207   12223     440645   270339      12176   \n",
       "Americas                 8839286  342732    4468616  4027938     129531   \n",
       "Eastern Mediterranean    1490744   38339    1201400   251005      12410   \n",
       "Europe                   3299523  211144    1993723  1094656      22294   \n",
       "South-East Asia          1835297   41349    1156933   637015      48993   \n",
       "Western Pacific           292428    8249     206770    77409       3289   \n",
       "\n",
       "                       New deaths  New recovered  Confirmed last week  \\\n",
       "WHO Region                                                              \n",
       "Africa                        353          14563               608120   \n",
       "Americas                     3555          94776              7815198   \n",
       "Eastern Mediterranean         445          14843              1398847   \n",
       "Europe                        304          11732              3146816   \n",
       "South-East Asia               734          37582              1478283   \n",
       "Western Pacific                24           1127               266359   \n",
       "\n",
       "                       1 week change  1 week % increase  Deathsp100  \\\n",
       "WHO Region                                                            \n",
       "Africa                        115087           0.189250    2.306458   \n",
       "Americas                     1024088           0.131038    3.052571   \n",
       "Eastern Mediterranean          91897           0.065695    3.563182   \n",
       "Europe                        152707           0.048527    4.198393   \n",
       "South-East Asia               357014           0.241506    1.296000   \n",
       "Western Pacific                26069           0.097872    1.290000   \n",
       "\n",
       "                       Recoveredp100  Deathsp100Recovered  Deathsp10athsp100  \n",
       "WHO Region                                                                    \n",
       "Africa                      1.187808             4.505625           2.306458  \n",
       "Americas                    1.779755             5.562857           3.052571  \n",
       "Eastern Mediterranean       3.026963             6.250455           3.563182  \n",
       "Europe                      1.225625           121.160179           4.198393  \n",
       "South-East Asia             6.670400             1.956000           1.296000  \n",
       "Western Pacific             4.800312             1.787500           1.290000  "
      ]
     },
     "execution_count": 159,
     "metadata": {},
     "output_type": "execute_result"
    }
   ],
   "source": [
    "region_sum['Deathsp10athsp100'] = region_sum.apply(lambda x: x['Deathsp10athsp100']/countries_per_region[x.name], axis=1)\n",
    "region_sum"
   ]
  },
  {
   "cell_type": "code",
   "execution_count": 160,
   "id": "428052ff",
   "metadata": {},
   "outputs": [],
   "source": [
    "import seaborn as sns\n"
   ]
  },
  {
   "cell_type": "code",
   "execution_count": 161,
   "id": "87bbce41",
   "metadata": {},
   "outputs": [],
   "source": [
    "covid_data_by_region = region_sum.copy()\n"
   ]
  },
  {
   "cell_type": "code",
   "execution_count": 162,
   "id": "5383c0ea",
   "metadata": {},
   "outputs": [
    {
     "data": {
      "text/plain": [
       "Index(['Africa', 'Americas', 'Eastern Mediterranean', 'Europe',\n",
       "       'South-East Asia', 'Western Pacific'],\n",
       "      dtype='object', name='WHO Region')"
      ]
     },
     "execution_count": 162,
     "metadata": {},
     "output_type": "execute_result"
    }
   ],
   "source": [
    "covid_data_by_region.index"
   ]
  },
  {
   "cell_type": "code",
   "execution_count": 163,
   "id": "7cd5a174",
   "metadata": {},
   "outputs": [],
   "source": [
    "covid_data_by_region['Region'] = covid_data_by_region.index.tolist()"
   ]
  },
  {
   "cell_type": "code",
   "execution_count": 164,
   "id": "4f7c8637",
   "metadata": {},
   "outputs": [
    {
     "data": {
      "text/html": [
       "<div>\n",
       "<style scoped>\n",
       "    .dataframe tbody tr th:only-of-type {\n",
       "        vertical-align: middle;\n",
       "    }\n",
       "\n",
       "    .dataframe tbody tr th {\n",
       "        vertical-align: top;\n",
       "    }\n",
       "\n",
       "    .dataframe thead th {\n",
       "        text-align: right;\n",
       "    }\n",
       "</style>\n",
       "<table border=\"1\" class=\"dataframe\">\n",
       "  <thead>\n",
       "    <tr style=\"text-align: right;\">\n",
       "      <th></th>\n",
       "      <th>Confirmed</th>\n",
       "      <th>Deaths</th>\n",
       "      <th>Recovered</th>\n",
       "      <th>Active</th>\n",
       "      <th>New cases</th>\n",
       "      <th>New deaths</th>\n",
       "      <th>New recovered</th>\n",
       "      <th>Confirmed last week</th>\n",
       "      <th>1 week change</th>\n",
       "      <th>1 week % increase</th>\n",
       "      <th>Deathsp100</th>\n",
       "      <th>Recoveredp100</th>\n",
       "      <th>Deathsp100Recovered</th>\n",
       "      <th>Deathsp10athsp100</th>\n",
       "      <th>Region</th>\n",
       "    </tr>\n",
       "    <tr>\n",
       "      <th>WHO Region</th>\n",
       "      <th></th>\n",
       "      <th></th>\n",
       "      <th></th>\n",
       "      <th></th>\n",
       "      <th></th>\n",
       "      <th></th>\n",
       "      <th></th>\n",
       "      <th></th>\n",
       "      <th></th>\n",
       "      <th></th>\n",
       "      <th></th>\n",
       "      <th></th>\n",
       "      <th></th>\n",
       "      <th></th>\n",
       "      <th></th>\n",
       "    </tr>\n",
       "  </thead>\n",
       "  <tbody>\n",
       "    <tr>\n",
       "      <th>Africa</th>\n",
       "      <td>723207</td>\n",
       "      <td>12223</td>\n",
       "      <td>440645</td>\n",
       "      <td>270339</td>\n",
       "      <td>12176</td>\n",
       "      <td>353</td>\n",
       "      <td>14563</td>\n",
       "      <td>608120</td>\n",
       "      <td>115087</td>\n",
       "      <td>0.189250</td>\n",
       "      <td>2.306458</td>\n",
       "      <td>1.187808</td>\n",
       "      <td>4.505625</td>\n",
       "      <td>2.306458</td>\n",
       "      <td>Africa</td>\n",
       "    </tr>\n",
       "    <tr>\n",
       "      <th>Americas</th>\n",
       "      <td>8839286</td>\n",
       "      <td>342732</td>\n",
       "      <td>4468616</td>\n",
       "      <td>4027938</td>\n",
       "      <td>129531</td>\n",
       "      <td>3555</td>\n",
       "      <td>94776</td>\n",
       "      <td>7815198</td>\n",
       "      <td>1024088</td>\n",
       "      <td>0.131038</td>\n",
       "      <td>3.052571</td>\n",
       "      <td>1.779755</td>\n",
       "      <td>5.562857</td>\n",
       "      <td>3.052571</td>\n",
       "      <td>Americas</td>\n",
       "    </tr>\n",
       "    <tr>\n",
       "      <th>Eastern Mediterranean</th>\n",
       "      <td>1490744</td>\n",
       "      <td>38339</td>\n",
       "      <td>1201400</td>\n",
       "      <td>251005</td>\n",
       "      <td>12410</td>\n",
       "      <td>445</td>\n",
       "      <td>14843</td>\n",
       "      <td>1398847</td>\n",
       "      <td>91897</td>\n",
       "      <td>0.065695</td>\n",
       "      <td>3.563182</td>\n",
       "      <td>3.026963</td>\n",
       "      <td>6.250455</td>\n",
       "      <td>3.563182</td>\n",
       "      <td>Eastern Mediterranean</td>\n",
       "    </tr>\n",
       "    <tr>\n",
       "      <th>Europe</th>\n",
       "      <td>3299523</td>\n",
       "      <td>211144</td>\n",
       "      <td>1993723</td>\n",
       "      <td>1094656</td>\n",
       "      <td>22294</td>\n",
       "      <td>304</td>\n",
       "      <td>11732</td>\n",
       "      <td>3146816</td>\n",
       "      <td>152707</td>\n",
       "      <td>0.048527</td>\n",
       "      <td>4.198393</td>\n",
       "      <td>1.225625</td>\n",
       "      <td>121.160179</td>\n",
       "      <td>4.198393</td>\n",
       "      <td>Europe</td>\n",
       "    </tr>\n",
       "    <tr>\n",
       "      <th>South-East Asia</th>\n",
       "      <td>1835297</td>\n",
       "      <td>41349</td>\n",
       "      <td>1156933</td>\n",
       "      <td>637015</td>\n",
       "      <td>48993</td>\n",
       "      <td>734</td>\n",
       "      <td>37582</td>\n",
       "      <td>1478283</td>\n",
       "      <td>357014</td>\n",
       "      <td>0.241506</td>\n",
       "      <td>1.296000</td>\n",
       "      <td>6.670400</td>\n",
       "      <td>1.956000</td>\n",
       "      <td>1.296000</td>\n",
       "      <td>South-East Asia</td>\n",
       "    </tr>\n",
       "    <tr>\n",
       "      <th>Western Pacific</th>\n",
       "      <td>292428</td>\n",
       "      <td>8249</td>\n",
       "      <td>206770</td>\n",
       "      <td>77409</td>\n",
       "      <td>3289</td>\n",
       "      <td>24</td>\n",
       "      <td>1127</td>\n",
       "      <td>266359</td>\n",
       "      <td>26069</td>\n",
       "      <td>0.097872</td>\n",
       "      <td>1.290000</td>\n",
       "      <td>4.800312</td>\n",
       "      <td>1.787500</td>\n",
       "      <td>1.290000</td>\n",
       "      <td>Western Pacific</td>\n",
       "    </tr>\n",
       "  </tbody>\n",
       "</table>\n",
       "</div>"
      ],
      "text/plain": [
       "                       Confirmed  Deaths  Recovered   Active  New cases  \\\n",
       "WHO Region                                                                \n",
       "Africa                    723207   12223     440645   270339      12176   \n",
       "Americas                 8839286  342732    4468616  4027938     129531   \n",
       "Eastern Mediterranean    1490744   38339    1201400   251005      12410   \n",
       "Europe                   3299523  211144    1993723  1094656      22294   \n",
       "South-East Asia          1835297   41349    1156933   637015      48993   \n",
       "Western Pacific           292428    8249     206770    77409       3289   \n",
       "\n",
       "                       New deaths  New recovered  Confirmed last week  \\\n",
       "WHO Region                                                              \n",
       "Africa                        353          14563               608120   \n",
       "Americas                     3555          94776              7815198   \n",
       "Eastern Mediterranean         445          14843              1398847   \n",
       "Europe                        304          11732              3146816   \n",
       "South-East Asia               734          37582              1478283   \n",
       "Western Pacific                24           1127               266359   \n",
       "\n",
       "                       1 week change  1 week % increase  Deathsp100  \\\n",
       "WHO Region                                                            \n",
       "Africa                        115087           0.189250    2.306458   \n",
       "Americas                     1024088           0.131038    3.052571   \n",
       "Eastern Mediterranean          91897           0.065695    3.563182   \n",
       "Europe                        152707           0.048527    4.198393   \n",
       "South-East Asia               357014           0.241506    1.296000   \n",
       "Western Pacific                26069           0.097872    1.290000   \n",
       "\n",
       "                       Recoveredp100  Deathsp100Recovered  Deathsp10athsp100  \\\n",
       "WHO Region                                                                     \n",
       "Africa                      1.187808             4.505625           2.306458   \n",
       "Americas                    1.779755             5.562857           3.052571   \n",
       "Eastern Mediterranean       3.026963             6.250455           3.563182   \n",
       "Europe                      1.225625           121.160179           4.198393   \n",
       "South-East Asia             6.670400             1.956000           1.296000   \n",
       "Western Pacific             4.800312             1.787500           1.290000   \n",
       "\n",
       "                                      Region  \n",
       "WHO Region                                    \n",
       "Africa                                Africa  \n",
       "Americas                            Americas  \n",
       "Eastern Mediterranean  Eastern Mediterranean  \n",
       "Europe                                Europe  \n",
       "South-East Asia              South-East Asia  \n",
       "Western Pacific              Western Pacific  "
      ]
     },
     "execution_count": 164,
     "metadata": {},
     "output_type": "execute_result"
    }
   ],
   "source": [
    "covid_data_by_region"
   ]
  },
  {
   "cell_type": "code",
   "execution_count": 195,
   "id": "e239aac2",
   "metadata": {},
   "outputs": [
    {
     "data": {
      "text/plain": [
       "<AxesSubplot:title={'center':'Confirmed Cases by WHO Region'}, xlabel='Region', ylabel='Confirmed'>"
      ]
     },
     "execution_count": 195,
     "metadata": {},
     "output_type": "execute_result"
    },
    {
     "data": {
      "image/png": "[encoded data removed]",
      "text/plain": [
       "<Figure size 1152x576 with 1 Axes>"
      ]
     },
     "metadata": {
      "needs_background": "light"
     },
     "output_type": "display_data"
    }
   ],
   "source": [
    "plt.figure(figsize=(16, 8))\n",
    "plt.title('Confirmed Cases by WHO Region')\n",
    "sns.barplot(x='Region', y='Confirmed', data=covid_data_by_region,)"
   ]
  },
  {
   "cell_type": "code",
   "execution_count": null,
   "id": "7a599e5b",
   "metadata": {},
   "outputs": [],
   "source": []
  },
  {
   "cell_type": "code",
   "execution_count": 165,
   "id": "db26ceba",
   "metadata": {},
   "outputs": [
    {
     "data": {
      "text/plain": [
       "<AxesSubplot:title={'center':'Week % increase by WHO Region'}, xlabel='Region', ylabel='1 week % increase'>"
      ]
     },
     "execution_count": 165,
     "metadata": {},
     "output_type": "execute_result"
    },
    {
     "data": {
      "image/png": "[encoded data removed]",
      "text/plain": [
       "<Figure size 1152x576 with 1 Axes>"
      ]
     },
     "metadata": {
      "needs_background": "light"
     },
     "output_type": "display_data"
    }
   ],
   "source": [
    "plt.figure(figsize=(16, 8))\n",
    "plt.title('Week % increase by WHO Region')\n",
    "sns.barplot(x='Region', y='1 week % increase', data=covid_data_by_region)"
   ]
  },
  {
   "cell_type": "code",
   "execution_count": 167,
   "id": "60086cd9",
   "metadata": {},
   "outputs": [
    {
     "data": {
      "text/plain": [
       "<AxesSubplot:title={'center':'New deaths per WHO Region'}, xlabel='Region', ylabel='New deaths'>"
      ]
     },
     "execution_count": 167,
     "metadata": {},
     "output_type": "execute_result"
    },
    {
     "data": {
      "image/png": "[encoded data removed]",
      "text/plain": [
       "<Figure size 1152x576 with 1 Axes>"
      ]
     },
     "metadata": {
      "needs_background": "light"
     },
     "output_type": "display_data"
    }
   ],
   "source": [
    "plt.figure(figsize=(16, 8))\n",
    "plt.title('New deaths per WHO Region')\n",
    "sns.barplot(x='Region', y='New deaths', data=covid_data_by_region)"
   ]
  },
  {
   "cell_type": "code",
   "execution_count": 168,
   "id": "5dcf66aa",
   "metadata": {},
   "outputs": [
    {
     "data": {
      "text/plain": [
       "<AxesSubplot:title={'center':'Recovered by WHO Region'}, xlabel='Region', ylabel='Recovered'>"
      ]
     },
     "execution_count": 168,
     "metadata": {},
     "output_type": "execute_result"
    },
    {
     "data": {
      "image/png": "[encoded data removed]",
      "text/plain": [
       "<Figure size 1152x576 with 1 Axes>"
      ]
     },
     "metadata": {
      "needs_background": "light"
     },
     "output_type": "display_data"
    }
   ],
   "source": [
    "plt.figure(figsize=(16, 8))\n",
    "plt.title('Recovered by WHO Region')\n",
    "sns.barplot(x='Region', y='Recovered', data=covid_data_by_region)"
   ]
  },
  {
   "cell_type": "code",
   "execution_count": 169,
   "id": "beddfe86",
   "metadata": {},
   "outputs": [
    {
     "data": {
      "text/plain": [
       "<AxesSubplot:title={'center':'Deaths per 100 people by WHO Region'}, xlabel='Region', ylabel='Deathsp100'>"
      ]
     },
     "execution_count": 169,
     "metadata": {},
     "output_type": "execute_result"
    },
    {
     "data": {
      "image/png": "[encoded data removed]",
      "text/plain": [
       "<Figure size 1152x576 with 1 Axes>"
      ]
     },
     "metadata": {
      "needs_background": "light"
     },
     "output_type": "display_data"
    }
   ],
   "source": [
    "plt.figure(figsize=(16, 8))\n",
    "plt.title('Deaths per 100 people by WHO Region')\n",
    "sns.barplot(x='Region', y='Deathsp100', data=covid_data_by_region)"
   ]
  },
  {
   "cell_type": "code",
   "execution_count": 170,
   "id": "d9247a4c",
   "metadata": {},
   "outputs": [
    {
     "data": {
      "text/plain": [
       "<AxesSubplot:title={'center':'Recovered per 100 people by WHO Region'}, xlabel='Region', ylabel='Recoveredp100'>"
      ]
     },
     "execution_count": 170,
     "metadata": {},
     "output_type": "execute_result"
    },
    {
     "data": {
      "image/png": "[encoded data removed]",
      "text/plain": [
       "<Figure size 1152x576 with 1 Axes>"
      ]
     },
     "metadata": {
      "needs_background": "light"
     },
     "output_type": "display_data"
    }
   ],
   "source": [
    "plt.figure(figsize=(16, 8))\n",
    "plt.title('Recovered per 100 people by WHO Region')\n",
    "sns.barplot(x='Region', y='Recoveredp100', data=covid_data_by_region)"
   ]
  },
  {
   "cell_type": "code",
   "execution_count": 172,
   "id": "bba3947d",
   "metadata": {},
   "outputs": [],
   "source": [
    "covid_data_by_region['ratio_deaths_confirmed'] = covid_data_by_region['Deaths']/covid_data_by_region['Confirmed']\n"
   ]
  },
  {
   "cell_type": "code",
   "execution_count": 173,
   "id": "62c3dcdb",
   "metadata": {},
   "outputs": [
    {
     "data": {
      "text/plain": [
       "<AxesSubplot:title={'center':'Ratio of deaths to confirmed'}, xlabel='Region', ylabel='ratio_deaths_confirmed'>"
      ]
     },
     "execution_count": 173,
     "metadata": {},
     "output_type": "execute_result"
    },
    {
     "data": {
      "image/png": "[encoded data removed]",
      "text/plain": [
       "<Figure size 1152x576 with 1 Axes>"
      ]
     },
     "metadata": {
      "needs_background": "light"
     },
     "output_type": "display_data"
    }
   ],
   "source": [
    "plt.figure(figsize=(16, 8))\n",
    "plt.title('Ratio of deaths to confirmed')\n",
    "sns.barplot(x='Region', y='ratio_deaths_confirmed', data=covid_data_by_region)"
   ]
  },
  {
   "cell_type": "code",
   "execution_count": 174,
   "id": "0908098a",
   "metadata": {},
   "outputs": [],
   "source": [
    "covid_data_by_region['ratio_active_confirmed'] = covid_data_by_region['Active']/covid_data_by_region['Confirmed']\n",
    "covid_data_by_region['ratio_recovered_confirmed'] = covid_data_by_region['Recovered']/covid_data_by_region['Confirmed']\n",
    "\n"
   ]
  },
  {
   "cell_type": "code",
   "execution_count": 175,
   "id": "4ef0f0d4",
   "metadata": {},
   "outputs": [
    {
     "data": {
      "text/plain": [
       "<AxesSubplot:title={'center':'Ratio of recovered to confirmed'}, xlabel='Region', ylabel='ratio_recovered_confirmed'>"
      ]
     },
     "execution_count": 175,
     "metadata": {},
     "output_type": "execute_result"
    },
    {
     "data": {
      "image/png": "[encoded data removed]",
      "text/plain": [
       "<Figure size 1152x576 with 1 Axes>"
      ]
     },
     "metadata": {
      "needs_background": "light"
     },
     "output_type": "display_data"
    },
    {
     "data": {
      "image/png": "[encoded data removed]",
      "text/plain": [
       "<Figure size 1152x576 with 1 Axes>"
      ]
     },
     "metadata": {
      "needs_background": "light"
     },
     "output_type": "display_data"
    }
   ],
   "source": [
    "plt.figure(figsize=(16, 8))\n",
    "plt.title('Ratio of active to confirmed')\n",
    "sns.barplot(x='Region', y='ratio_active_confirmed', data=covid_data_by_region)\n",
    "\n",
    "plt.figure(figsize=(16, 8))\n",
    "plt.title('Ratio of recovered to confirmed')\n",
    "sns.barplot(x='Region', y='ratio_recovered_confirmed', data=covid_data_by_region)"
   ]
  },
  {
   "cell_type": "code",
   "execution_count": 182,
   "id": "a9e362b0",
   "metadata": {},
   "outputs": [
    {
     "data": {
      "text/html": [
       "<div>\n",
       "<style scoped>\n",
       "    .dataframe tbody tr th:only-of-type {\n",
       "        vertical-align: middle;\n",
       "    }\n",
       "\n",
       "    .dataframe tbody tr th {\n",
       "        vertical-align: top;\n",
       "    }\n",
       "\n",
       "    .dataframe thead th {\n",
       "        text-align: right;\n",
       "    }\n",
       "</style>\n",
       "<table border=\"1\" class=\"dataframe\">\n",
       "  <thead>\n",
       "    <tr style=\"text-align: right;\">\n",
       "      <th></th>\n",
       "      <th>Date</th>\n",
       "      <th>Confirmed</th>\n",
       "      <th>Deaths</th>\n",
       "      <th>Recovered</th>\n",
       "      <th>Active</th>\n",
       "      <th>New cases</th>\n",
       "      <th>New deaths</th>\n",
       "      <th>New recovered</th>\n",
       "      <th>Deaths / 100 Cases</th>\n",
       "      <th>Recovered / 100 Cases</th>\n",
       "      <th>Deaths / 100 Recovered</th>\n",
       "      <th>No. of countries</th>\n",
       "    </tr>\n",
       "  </thead>\n",
       "  <tbody>\n",
       "    <tr>\n",
       "      <th>0</th>\n",
       "      <td>2020-01-22</td>\n",
       "      <td>555</td>\n",
       "      <td>17</td>\n",
       "      <td>28</td>\n",
       "      <td>510</td>\n",
       "      <td>0</td>\n",
       "      <td>0</td>\n",
       "      <td>0</td>\n",
       "      <td>3.06</td>\n",
       "      <td>5.05</td>\n",
       "      <td>60.71</td>\n",
       "      <td>6</td>\n",
       "    </tr>\n",
       "    <tr>\n",
       "      <th>1</th>\n",
       "      <td>2020-01-23</td>\n",
       "      <td>654</td>\n",
       "      <td>18</td>\n",
       "      <td>30</td>\n",
       "      <td>606</td>\n",
       "      <td>99</td>\n",
       "      <td>1</td>\n",
       "      <td>2</td>\n",
       "      <td>2.75</td>\n",
       "      <td>4.59</td>\n",
       "      <td>60.00</td>\n",
       "      <td>8</td>\n",
       "    </tr>\n",
       "    <tr>\n",
       "      <th>2</th>\n",
       "      <td>2020-01-24</td>\n",
       "      <td>941</td>\n",
       "      <td>26</td>\n",
       "      <td>36</td>\n",
       "      <td>879</td>\n",
       "      <td>287</td>\n",
       "      <td>8</td>\n",
       "      <td>6</td>\n",
       "      <td>2.76</td>\n",
       "      <td>3.83</td>\n",
       "      <td>72.22</td>\n",
       "      <td>9</td>\n",
       "    </tr>\n",
       "    <tr>\n",
       "      <th>3</th>\n",
       "      <td>2020-01-25</td>\n",
       "      <td>1434</td>\n",
       "      <td>42</td>\n",
       "      <td>39</td>\n",
       "      <td>1353</td>\n",
       "      <td>493</td>\n",
       "      <td>16</td>\n",
       "      <td>3</td>\n",
       "      <td>2.93</td>\n",
       "      <td>2.72</td>\n",
       "      <td>107.69</td>\n",
       "      <td>11</td>\n",
       "    </tr>\n",
       "    <tr>\n",
       "      <th>4</th>\n",
       "      <td>2020-01-26</td>\n",
       "      <td>2118</td>\n",
       "      <td>56</td>\n",
       "      <td>52</td>\n",
       "      <td>2010</td>\n",
       "      <td>684</td>\n",
       "      <td>14</td>\n",
       "      <td>13</td>\n",
       "      <td>2.64</td>\n",
       "      <td>2.46</td>\n",
       "      <td>107.69</td>\n",
       "      <td>13</td>\n",
       "    </tr>\n",
       "  </tbody>\n",
       "</table>\n",
       "</div>"
      ],
      "text/plain": [
       "         Date  Confirmed  Deaths  Recovered  Active  New cases  New deaths  \\\n",
       "0  2020-01-22        555      17         28     510          0           0   \n",
       "1  2020-01-23        654      18         30     606         99           1   \n",
       "2  2020-01-24        941      26         36     879        287           8   \n",
       "3  2020-01-25       1434      42         39    1353        493          16   \n",
       "4  2020-01-26       2118      56         52    2010        684          14   \n",
       "\n",
       "   New recovered  Deaths / 100 Cases  Recovered / 100 Cases  \\\n",
       "0              0                3.06                   5.05   \n",
       "1              2                2.75                   4.59   \n",
       "2              6                2.76                   3.83   \n",
       "3              3                2.93                   2.72   \n",
       "4             13                2.64                   2.46   \n",
       "\n",
       "   Deaths / 100 Recovered  No. of countries  \n",
       "0                   60.71                 6  \n",
       "1                   60.00                 8  \n",
       "2                   72.22                 9  \n",
       "3                  107.69                11  \n",
       "4                  107.69                13  "
      ]
     },
     "execution_count": 182,
     "metadata": {},
     "output_type": "execute_result"
    }
   ],
   "source": [
    "day_wise.head()"
   ]
  },
  {
   "cell_type": "code",
   "execution_count": 198,
   "id": "64b3b7ec",
   "metadata": {},
   "outputs": [],
   "source": [
    "day_wise['Date'] = pd.to_datetime(day_wise['Date'],)"
   ]
  },
  {
   "cell_type": "code",
   "execution_count": 210,
   "id": "3fc6a2b5",
   "metadata": {},
   "outputs": [
    {
     "data": {
      "text/plain": [
       "<matplotlib.legend.Legend at 0x21031f3d2b0>"
      ]
     },
     "execution_count": 210,
     "metadata": {},
     "output_type": "execute_result"
    },
    {
     "data": {
      "image/png": "[encoded data removed]",
      "text/plain": [
       "<Figure size 1152x576 with 1 Axes>"
      ]
     },
     "metadata": {
      "needs_background": "light"
     },
     "output_type": "display_data"
    }
   ],
   "source": [
    "plt.figure(figsize=(16, 8))\n",
    "plt.title('Stats over time')\n",
    "sns.lineplot(x='Date', y='Confirmed', data=day_wise, label='Total Confirmed cases')\n",
    "sns.lineplot(x='Date', y='Recovered', data=day_wise, label='Total Recovered')\n",
    "sns.lineplot(x='Date', y='Active', data=day_wise, label='Total Active cases')\n",
    "\n",
    "\n",
    "plt.legend()"
   ]
  },
  {
   "cell_type": "code",
   "execution_count": 203,
   "id": "5ced90e6",
   "metadata": {},
   "outputs": [
    {
     "data": {
      "text/plain": [
       "<AxesSubplot:title={'center':'New cases against new deaths'}, xlabel='New cases', ylabel='New deaths'>"
      ]
     },
     "execution_count": 203,
     "metadata": {},
     "output_type": "execute_result"
    },
    {
     "data": {
      "image/png": "[encoded data removed]",
      "text/plain": [
       "<Figure size 1152x576 with 1 Axes>"
      ]
     },
     "metadata": {
      "needs_background": "light"
     },
     "output_type": "display_data"
    }
   ],
   "source": [
    "plt.figure(figsize=(16, 8))\n",
    "plt.title('New cases against new deaths')\n",
    "sns.lineplot(x='New cases', y='New deaths', data=day_wise)\n"
   ]
  },
  {
   "cell_type": "code",
   "execution_count": 204,
   "id": "a2e3f949",
   "metadata": {},
   "outputs": [
    {
     "data": {
      "text/plain": [
       "<AxesSubplot:title={'center':'New deaths over time'}, xlabel='Date', ylabel='New deaths'>"
      ]
     },
     "execution_count": 204,
     "metadata": {},
     "output_type": "execute_result"
    },
    {
     "data": {
      "image/png": "[encoded data removed]",
      "text/plain": [
       "<Figure size 1152x576 with 1 Axes>"
      ]
     },
     "metadata": {
      "needs_background": "light"
     },
     "output_type": "display_data"
    }
   ],
   "source": [
    "plt.figure(figsize=(16, 8))\n",
    "plt.title('New deaths over time')\n",
    "sns.lineplot(x='Date', y='New deaths', data=day_wise)\n"
   ]
  },
  {
   "cell_type": "code",
   "execution_count": 211,
   "id": "c5246aec",
   "metadata": {},
   "outputs": [
    {
     "data": {
      "text/plain": [
       "<AxesSubplot:title={'center':'Deaths / 100 Cases over time'}, xlabel='Date', ylabel='Deaths / 100 Cases'>"
      ]
     },
     "execution_count": 211,
     "metadata": {},
     "output_type": "execute_result"
    },
    {
     "data": {
      "image/png": "[encoded data removed]",
      "text/plain": [
       "<Figure size 1152x576 with 1 Axes>"
      ]
     },
     "metadata": {
      "needs_background": "light"
     },
     "output_type": "display_data"
    }
   ],
   "source": [
    "plt.figure(figsize=(16, 8))\n",
    "plt.title('Deaths / 100 Cases over time')\n",
    "sns.lineplot(x='Date', y='Deaths / 100 Cases', data=day_wise)\n"
   ]
  },
  {
   "cell_type": "code",
   "execution_count": 212,
   "id": "57109524",
   "metadata": {},
   "outputs": [
    {
     "data": {
      "text/plain": [
       "<AxesSubplot:title={'center':'Deaths / 100 Recovered over time'}, xlabel='Date', ylabel='Deaths / 100 Recovered'>"
      ]
     },
     "execution_count": 212,
     "metadata": {},
     "output_type": "execute_result"
    },
    {
     "data": {
      "image/png": "[encoded data removed]",
      "text/plain": [
       "<Figure size 1152x576 with 1 Axes>"
      ]
     },
     "metadata": {
      "needs_background": "light"
     },
     "output_type": "display_data"
    }
   ],
   "source": [
    "plt.figure(figsize=(16, 8))\n",
    "plt.title('Deaths / 100 Recovered over time')\n",
    "sns.lineplot(x='Date', y='Deaths / 100 Recovered', data=day_wise)\n"
   ]
  },
  {
   "cell_type": "code",
   "execution_count": 213,
   "id": "7f878482",
   "metadata": {},
   "outputs": [
    {
     "data": {
      "text/plain": [
       "<AxesSubplot:title={'center':'confirmed vs number of countries over time'}, xlabel='Confirmed', ylabel='No. of countries'>"
      ]
     },
     "execution_count": 213,
     "metadata": {},
     "output_type": "execute_result"
    },
    {
     "data": {
      "image/png": "[encoded data removed]",
      "text/plain": [
       "<Figure size 1152x576 with 1 Axes>"
      ]
     },
     "metadata": {
      "needs_background": "light"
     },
     "output_type": "display_data"
    }
   ],
   "source": [
    "plt.figure(figsize=(16, 8))\n",
    "plt.title('confirmed vs number of countries over time')\n",
    "sns.lineplot(x='Confirmed', y='No. of countries', data=day_wise)\n"
   ]
  }
 ],
 "metadata": {
  "kernelspec": {
   "display_name": "Python 3 (ipykernel)",
   "language": "python",
   "name": "python3"
  },
  "language_info": {
   "codemirror_mode": {
    "name": "ipython",
    "version": 3
   },
   "file_extension": ".py",
   "mimetype": "text/x-python",
   "name": "python",
   "nbconvert_exporter": "python",
   "pygments_lexer": "ipython3",
   "version": "3.9.6"
  }
 },
 "nbformat": 4,
 "nbformat_minor": 5
}
